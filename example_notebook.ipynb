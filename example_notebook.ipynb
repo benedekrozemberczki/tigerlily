{
 "cells": [
  {
   "cell_type": "markdown",
   "id": "e86b367d",
   "metadata": {},
   "source": [
    "![title](https://github.com/benedekrozemberczki/datasets/raw/master/images/tigerlily_logo.jpg)"
   ]
  },
  {
   "cell_type": "markdown",
   "id": "157a104a",
   "metadata": {},
   "source": [
    "# 🐯 TigerLily: Finding drug interactions in silico with the Graph 🐯\n",
    "\n",
    "### 1. What is TigerLily?\n",
    "### 2. What do we achieve by using Tigerlily? \n",
    "### 3. Why do we care?"
   ]
  },
  {
   "cell_type": "markdown",
   "id": "c911c7ad",
   "metadata": {},
   "source": [
    "![title](https://github.com/benedekrozemberczki/datasets/raw/master/images/pair_scoring.jpg)"
   ]
  },
  {
   "cell_type": "markdown",
   "id": "41026648",
   "metadata": {},
   "source": [
    "# 1. Imports 🚢\n",
    "\n",
    "#### The imports that we use depend on the [TigerLily](https://github.com/benedekrozemberczki/tigerlily) library - the PyPI description of the library is available [here](https://pypi.org/project/tiger/). It can be installed with the pip command!"
   ]
  },
  {
   "cell_type": "markdown",
   "id": "79e7e5c6",
   "metadata": {},
   "source": [
    "## 1.1. Tigerlily specific imports 🐅"
   ]
  },
  {
   "cell_type": "markdown",
   "id": "b11afbc6",
   "metadata": {},
   "source": [
    "We use **TigerLily** classes and functions from the following name spaces:\n",
    "    \n",
    "- ``dataset``: Tools for loading the example dataset.\n",
    "- ``embedding``: Machine learning tools for creating node embeddings.\n",
    "- ``pagerank``: Learning personalized pagerank scores of nodes.\n",
    "- ``operator``: Functions to generate the drug pair featurs."
   ]
  },
  {
   "cell_type": "code",
   "execution_count": 68,
   "id": "95c6e9b2",
   "metadata": {},
   "outputs": [],
   "source": [
    "from tigerlily.dataset import ExampleDataset\n",
    "from tigerlily.pagerank import PersonalizedPageRankMachine\n",
    "from tigerlily.embedding import EmbeddingMachine\n",
    "from tigerlily.operator import hadamard_operator, concatenation_operator"
   ]
  },
  {
   "cell_type": "markdown",
   "id": "b5b1373a",
   "metadata": {},
   "source": [
    "## 1.2. General data manipulation and machine learning imports 💾\n",
    "\n",
    "We are going to use import that help with the following:\n",
    "\n",
    "- **[pandas](https://pandas.pydata.org/)** - Tabular data manipulation.\n",
    "- **[lightgbm](https://lightgbm.readthedocs.io/)** - Gradient boosted trees for classification.\n",
    "- **[scikit-learn](https://scikit-learn.org/stable/)** - Train-test set split generations and evaluation metrics."
   ]
  },
  {
   "cell_type": "code",
   "execution_count": 69,
   "id": "e249fc69",
   "metadata": {},
   "outputs": [],
   "source": [
    "import pandas as pd\n",
    "from lightgbm import LGBMClassifier\n",
    "from sklearn.metrics import roc_auc_score\n",
    "from sklearn.model_selection import train_test_split"
   ]
  },
  {
   "cell_type": "markdown",
   "id": "9688140e",
   "metadata": {},
   "source": [
    "# 2. DrugBank DDI 💊 and BioSNAP🧬 Dataset Loading"
   ]
  },
  {
   "cell_type": "markdown",
   "id": "1b94d7d8",
   "metadata": {},
   "source": [
    "We need drug-drug interactions and a biological graph; we use these public dataset sources:\n",
    "    \n",
    "- [Biological Graph - BioSNAP](http://snap.stanford.edu/biodata/)\n",
    "- [Drug Interactions - DrugBank DDI from Therapeutic Data Commons](https://tdcommons.ai/multi_pred_tasks/ddi/)"
   ]
  },
  {
   "cell_type": "code",
   "execution_count": 70,
   "id": "bf1c6acf",
   "metadata": {},
   "outputs": [],
   "source": [
    "dataset = ExampleDataset()"
   ]
  },
  {
   "cell_type": "code",
   "execution_count": 71,
   "id": "cb74d26d",
   "metadata": {},
   "outputs": [],
   "source": [
    "edges = dataset.read_edges()\n",
    "target = dataset.read_target()"
   ]
  },
  {
   "cell_type": "code",
   "execution_count": 72,
   "id": "d13fe630",
   "metadata": {},
   "outputs": [
    {
     "data": {
      "text/html": [
       "<div>\n",
       "<style scoped>\n",
       "    .dataframe tbody tr th:only-of-type {\n",
       "        vertical-align: middle;\n",
       "    }\n",
       "\n",
       "    .dataframe tbody tr th {\n",
       "        vertical-align: top;\n",
       "    }\n",
       "\n",
       "    .dataframe thead th {\n",
       "        text-align: right;\n",
       "    }\n",
       "</style>\n",
       "<table border=\"1\" class=\"dataframe\">\n",
       "  <thead>\n",
       "    <tr style=\"text-align: right;\">\n",
       "      <th></th>\n",
       "      <th>drug_1</th>\n",
       "      <th>drug_2</th>\n",
       "      <th>label</th>\n",
       "    </tr>\n",
       "  </thead>\n",
       "  <tbody>\n",
       "    <tr>\n",
       "      <th>0</th>\n",
       "      <td>DB00424</td>\n",
       "      <td>DB08897</td>\n",
       "      <td>1</td>\n",
       "    </tr>\n",
       "    <tr>\n",
       "      <th>1</th>\n",
       "      <td>DB00670</td>\n",
       "      <td>DB06148</td>\n",
       "      <td>1</td>\n",
       "    </tr>\n",
       "    <tr>\n",
       "      <th>2</th>\n",
       "      <td>DB00391</td>\n",
       "      <td>DB00517</td>\n",
       "      <td>1</td>\n",
       "    </tr>\n",
       "    <tr>\n",
       "      <th>3</th>\n",
       "      <td>DB01090</td>\n",
       "      <td>DB09076</td>\n",
       "      <td>1</td>\n",
       "    </tr>\n",
       "    <tr>\n",
       "      <th>4</th>\n",
       "      <td>DB00391</td>\n",
       "      <td>DB00462</td>\n",
       "      <td>1</td>\n",
       "    </tr>\n",
       "  </tbody>\n",
       "</table>\n",
       "</div>"
      ],
      "text/plain": [
       "    drug_1   drug_2  label\n",
       "0  DB00424  DB08897      1\n",
       "1  DB00670  DB06148      1\n",
       "2  DB00391  DB00517      1\n",
       "3  DB01090  DB09076      1\n",
       "4  DB00391  DB00462      1"
      ]
     },
     "execution_count": 72,
     "metadata": {},
     "output_type": "execute_result"
    }
   ],
   "source": [
    "target.head(5)"
   ]
  },
  {
   "cell_type": "code",
   "execution_count": 73,
   "id": "caf13259",
   "metadata": {},
   "outputs": [
    {
     "data": {
      "text/html": [
       "<div>\n",
       "<style scoped>\n",
       "    .dataframe tbody tr th:only-of-type {\n",
       "        vertical-align: middle;\n",
       "    }\n",
       "\n",
       "    .dataframe tbody tr th {\n",
       "        vertical-align: top;\n",
       "    }\n",
       "\n",
       "    .dataframe thead th {\n",
       "        text-align: right;\n",
       "    }\n",
       "</style>\n",
       "<table border=\"1\" class=\"dataframe\">\n",
       "  <thead>\n",
       "    <tr style=\"text-align: right;\">\n",
       "      <th></th>\n",
       "      <th>node_1</th>\n",
       "      <th>node_2</th>\n",
       "      <th>type_1</th>\n",
       "      <th>type_2</th>\n",
       "    </tr>\n",
       "  </thead>\n",
       "  <tbody>\n",
       "    <tr>\n",
       "      <th>0</th>\n",
       "      <td>DB00008</td>\n",
       "      <td>ENTREZ:995300</td>\n",
       "      <td>drug</td>\n",
       "      <td>gene</td>\n",
       "    </tr>\n",
       "    <tr>\n",
       "      <th>1</th>\n",
       "      <td>DB00008</td>\n",
       "      <td>ENTREZ:306914</td>\n",
       "      <td>drug</td>\n",
       "      <td>gene</td>\n",
       "    </tr>\n",
       "    <tr>\n",
       "      <th>2</th>\n",
       "      <td>DB00009</td>\n",
       "      <td>ENTREZ:387026</td>\n",
       "      <td>drug</td>\n",
       "      <td>gene</td>\n",
       "    </tr>\n",
       "    <tr>\n",
       "      <th>3</th>\n",
       "      <td>DB00009</td>\n",
       "      <td>ENTREZ:13591824</td>\n",
       "      <td>drug</td>\n",
       "      <td>gene</td>\n",
       "    </tr>\n",
       "    <tr>\n",
       "      <th>4</th>\n",
       "      <td>DB00009</td>\n",
       "      <td>ENTREZ:37605</td>\n",
       "      <td>drug</td>\n",
       "      <td>gene</td>\n",
       "    </tr>\n",
       "  </tbody>\n",
       "</table>\n",
       "</div>"
      ],
      "text/plain": [
       "    node_1           node_2 type_1 type_2\n",
       "0  DB00008    ENTREZ:995300   drug   gene\n",
       "1  DB00008    ENTREZ:306914   drug   gene\n",
       "2  DB00009    ENTREZ:387026   drug   gene\n",
       "3  DB00009  ENTREZ:13591824   drug   gene\n",
       "4  DB00009     ENTREZ:37605   drug   gene"
      ]
     },
     "execution_count": 73,
     "metadata": {},
     "output_type": "execute_result"
    }
   ],
   "source": [
    "edges.head(5)"
   ]
  },
  {
   "cell_type": "markdown",
   "id": "6135eed3",
   "metadata": {},
   "source": [
    "# 3. PageRank Computation with TigerGraph 🐯\n",
    "\n"
   ]
  },
  {
   "cell_type": "markdown",
   "id": "6ec4e225",
   "metadata": {},
   "source": [
    "![title](https://github.com/benedekrozemberczki/datasets/raw/master/images/pair_scoring_A.jpg)"
   ]
  },
  {
   "cell_type": "markdown",
   "id": "f83fa37f",
   "metadata": {},
   "source": [
    "## 3.1. Etablishing a connection and installing the Personalized PageRank query 📡\n",
    "\n",
    "- You need to add your TigerGraph Cloud instance.\n",
    "- The name of your drug - gene graph that you want to populate.\n",
    "- Your username.\n",
    "- Your secret for the graph.\n",
    "- The password for the TigerGraph Cloud user."
   ]
  },
  {
   "cell_type": "code",
   "execution_count": 91,
   "id": "3420f428",
   "metadata": {},
   "outputs": [],
   "source": [
    "host = \"host_here_please_replace\"\n",
    "\n",
    "graphname = \"graphname_here_please_replace\"\n",
    "\n",
    "username= \"usrname_here_please_replace\"\n",
    "\n",
    "secret = \"secret_here_please_replace\"\n",
    "\n",
    "password = \"password_here_please_replace\""
   ]
  },
  {
   "cell_type": "markdown",
   "id": "dcc972e4",
   "metadata": {},
   "source": [
    "We will compute the Personalized PageRank of drug nodes using a ``PersonalizedPageRankMachine`` instance."
   ]
  },
  {
   "cell_type": "code",
   "execution_count": 74,
   "id": "66b5cac8",
   "metadata": {},
   "outputs": [],
   "source": [
    "machine = PersonalizedPageRankMachine(host=host,\n",
    "                                      graphname=graphname,\n",
    "                                      username=username,\n",
    "                                      secret=secret,\n",
    "                                      password=password)"
   ]
  },
  {
   "cell_type": "markdown",
   "id": "04a04410",
   "metadata": {},
   "source": [
    "We connect to the TigerGraph Cloud solution first by using the ``.connect()`` method."
   ]
  },
  {
   "cell_type": "code",
   "execution_count": 75,
   "id": "d6f3632c",
   "metadata": {},
   "outputs": [],
   "source": [
    "machine.connect()"
   ]
  },
  {
   "cell_type": "markdown",
   "id": "457947eb",
   "metadata": {},
   "source": [
    "We install the Personalized PageRank query, the ``.install_query()`` method allows the installation of other queries."
   ]
  },
  {
   "cell_type": "code",
   "execution_count": 13,
   "id": "0f863eaf",
   "metadata": {},
   "outputs": [],
   "source": [
    "machine.install_query()"
   ]
  },
  {
   "cell_type": "markdown",
   "id": "1029e823",
   "metadata": {},
   "source": [
    "## 3.2. Defining a Graph and computing Personalized PageRank for the drug nodes\n",
    "\n",
    "We remove the existing edges and upload the edges in the edges pd.DataFrame - this contains **drug-gene** and **gene-gene** edges."
   ]
  },
  {
   "cell_type": "code",
   "execution_count": 76,
   "id": "e64e4712",
   "metadata": {},
   "outputs": [],
   "source": [
    "machine.upload_graph(new_graph=True, edges=edges)"
   ]
  },
  {
   "cell_type": "markdown",
   "id": "f9e3e30c",
   "metadata": {},
   "source": [
    "![title](https://github.com/benedekrozemberczki/datasets/raw/master/images/pair_scoring_B.jpg)"
   ]
  },
  {
   "cell_type": "markdown",
   "id": "d893760e",
   "metadata": {},
   "source": [
    "Using the graph connection we get the identifiers of the drug nodes."
   ]
  },
  {
   "cell_type": "code",
   "execution_count": 77,
   "id": "284f0bb6",
   "metadata": {},
   "outputs": [],
   "source": [
    "drug_node_ids = machine.connection.getVertices(\"drug\")"
   ]
  },
  {
   "cell_type": "markdown",
   "id": "4d0e0c2e",
   "metadata": {},
   "source": [
    "We compute the Personalized PageRank scores for the drug nodes with the ``.get_personalized_pagerank()`` method."
   ]
  },
  {
   "cell_type": "code",
   "execution_count": 79,
   "id": "0604c56a",
   "metadata": {},
   "outputs": [
    {
     "data": {
      "application/vnd.jupyter.widget-view+json": {
       "model_id": "69bf041425e841b3b1c7c5b6e75ffd17",
       "version_major": 2,
       "version_minor": 0
      },
      "text/plain": [
       "HBox(children=(HTML(value=''), FloatProgress(value=0.0, max=2.0), HTML(value='')))"
      ]
     },
     "metadata": {},
     "output_type": "display_data"
    },
    {
     "name": "stdout",
     "output_type": "stream",
     "text": [
      "\n"
     ]
    }
   ],
   "source": [
    "pagerank_scores = machine.get_personalized_pagerank(drug_node_ids)"
   ]
  },
  {
   "cell_type": "code",
   "execution_count": 80,
   "id": "03df9df8",
   "metadata": {},
   "outputs": [
    {
     "data": {
      "text/html": [
       "<div>\n",
       "<style scoped>\n",
       "    .dataframe tbody tr th:only-of-type {\n",
       "        vertical-align: middle;\n",
       "    }\n",
       "\n",
       "    .dataframe tbody tr th {\n",
       "        vertical-align: top;\n",
       "    }\n",
       "\n",
       "    .dataframe thead th {\n",
       "        text-align: right;\n",
       "    }\n",
       "</style>\n",
       "<table border=\"1\" class=\"dataframe\">\n",
       "  <thead>\n",
       "    <tr style=\"text-align: right;\">\n",
       "      <th></th>\n",
       "      <th>node_1</th>\n",
       "      <th>node_2</th>\n",
       "      <th>score</th>\n",
       "    </tr>\n",
       "  </thead>\n",
       "  <tbody>\n",
       "    <tr>\n",
       "      <th>0</th>\n",
       "      <td>DB06262</td>\n",
       "      <td>DB06262</td>\n",
       "      <td>0.50553</td>\n",
       "    </tr>\n",
       "    <tr>\n",
       "      <th>1</th>\n",
       "      <td>DB06262</td>\n",
       "      <td>ENTREZ:178200</td>\n",
       "      <td>0.03160</td>\n",
       "    </tr>\n",
       "    <tr>\n",
       "      <th>2</th>\n",
       "      <td>DB06262</td>\n",
       "      <td>ENTREZ:29371</td>\n",
       "      <td>0.03149</td>\n",
       "    </tr>\n",
       "    <tr>\n",
       "      <th>3</th>\n",
       "      <td>DB06262</td>\n",
       "      <td>ENTREZ:433201</td>\n",
       "      <td>0.03047</td>\n",
       "    </tr>\n",
       "    <tr>\n",
       "      <th>4</th>\n",
       "      <td>DB06262</td>\n",
       "      <td>ENTREZ:178896</td>\n",
       "      <td>0.02992</td>\n",
       "    </tr>\n",
       "    <tr>\n",
       "      <th>5</th>\n",
       "      <td>DB06262</td>\n",
       "      <td>ENTREZ:178194</td>\n",
       "      <td>0.02991</td>\n",
       "    </tr>\n",
       "    <tr>\n",
       "      <th>6</th>\n",
       "      <td>DB06262</td>\n",
       "      <td>ENTREZ:178196</td>\n",
       "      <td>0.02979</td>\n",
       "    </tr>\n",
       "    <tr>\n",
       "      <th>7</th>\n",
       "      <td>DB06262</td>\n",
       "      <td>ENTREZ:177807</td>\n",
       "      <td>0.02975</td>\n",
       "    </tr>\n",
       "    <tr>\n",
       "      <th>8</th>\n",
       "      <td>DB06262</td>\n",
       "      <td>ENTREZ:189937</td>\n",
       "      <td>0.02966</td>\n",
       "    </tr>\n",
       "    <tr>\n",
       "      <th>9</th>\n",
       "      <td>DB06262</td>\n",
       "      <td>ENTREZ:178198</td>\n",
       "      <td>0.02946</td>\n",
       "    </tr>\n",
       "  </tbody>\n",
       "</table>\n",
       "</div>"
      ],
      "text/plain": [
       "    node_1         node_2    score\n",
       "0  DB06262        DB06262  0.50553\n",
       "1  DB06262  ENTREZ:178200  0.03160\n",
       "2  DB06262   ENTREZ:29371  0.03149\n",
       "3  DB06262  ENTREZ:433201  0.03047\n",
       "4  DB06262  ENTREZ:178896  0.02992\n",
       "5  DB06262  ENTREZ:178194  0.02991\n",
       "6  DB06262  ENTREZ:178196  0.02979\n",
       "7  DB06262  ENTREZ:177807  0.02975\n",
       "8  DB06262  ENTREZ:189937  0.02966\n",
       "9  DB06262  ENTREZ:178198  0.02946"
      ]
     },
     "execution_count": 80,
     "metadata": {},
     "output_type": "execute_result"
    }
   ],
   "source": [
    "pagerank_scores.head(10)"
   ]
  },
  {
   "cell_type": "markdown",
   "id": "b8d42beb",
   "metadata": {},
   "source": [
    "# 4. Embedding learning from Personalized PageRank scores 🤖"
   ]
  },
  {
   "cell_type": "markdown",
   "id": "f3ff7bc8",
   "metadata": {},
   "source": [
    "![title](https://github.com/benedekrozemberczki/datasets/raw/master/images/pair_scoring_C.jpg)"
   ]
  },
  {
   "cell_type": "markdown",
   "id": "1614d435",
   "metadata": {},
   "source": [
    "We do not want to compute all of the PageRank scores, so let us load the pre-computed ones to speed up things."
   ]
  },
  {
   "cell_type": "code",
   "execution_count": 81,
   "id": "33abd07a",
   "metadata": {},
   "outputs": [],
   "source": [
    "pagerank_scores = dataset.read_pagerank()"
   ]
  },
  {
   "cell_type": "markdown",
   "id": "fa85dadb",
   "metadata": {},
   "source": [
    "We create an ``EmbeddingMachine`` instance - it will learn node embeddings for each drug, we set the hyperparameters manually."
   ]
  },
  {
   "cell_type": "code",
   "execution_count": 82,
   "id": "dc2132a6",
   "metadata": {},
   "outputs": [],
   "source": [
    "embedding_machine = EmbeddingMachine(seed=42, dimensions=32, max_iter=20)"
   ]
  },
  {
   "cell_type": "markdown",
   "id": "e08f7a92",
   "metadata": {},
   "source": [
    "We learn an embedding with the ``fit()`` method and look at the embedding matrix."
   ]
  },
  {
   "cell_type": "code",
   "execution_count": 83,
   "id": "1adb9a0a",
   "metadata": {},
   "outputs": [
    {
     "data": {
      "text/html": [
       "<div>\n",
       "<style scoped>\n",
       "    .dataframe tbody tr th:only-of-type {\n",
       "        vertical-align: middle;\n",
       "    }\n",
       "\n",
       "    .dataframe tbody tr th {\n",
       "        vertical-align: top;\n",
       "    }\n",
       "\n",
       "    .dataframe thead th {\n",
       "        text-align: right;\n",
       "    }\n",
       "</style>\n",
       "<table border=\"1\" class=\"dataframe\">\n",
       "  <thead>\n",
       "    <tr style=\"text-align: right;\">\n",
       "      <th></th>\n",
       "      <th>node_id</th>\n",
       "      <th>emb_0</th>\n",
       "      <th>emb_1</th>\n",
       "      <th>emb_2</th>\n",
       "      <th>emb_3</th>\n",
       "      <th>emb_4</th>\n",
       "      <th>emb_5</th>\n",
       "      <th>emb_6</th>\n",
       "      <th>emb_7</th>\n",
       "      <th>emb_8</th>\n",
       "      <th>...</th>\n",
       "      <th>emb_22</th>\n",
       "      <th>emb_23</th>\n",
       "      <th>emb_24</th>\n",
       "      <th>emb_25</th>\n",
       "      <th>emb_26</th>\n",
       "      <th>emb_27</th>\n",
       "      <th>emb_28</th>\n",
       "      <th>emb_29</th>\n",
       "      <th>emb_30</th>\n",
       "      <th>emb_31</th>\n",
       "    </tr>\n",
       "  </thead>\n",
       "  <tbody>\n",
       "    <tr>\n",
       "      <th>0</th>\n",
       "      <td>DB01620</td>\n",
       "      <td>-0.079809</td>\n",
       "      <td>-0.042563</td>\n",
       "      <td>-0.042563</td>\n",
       "      <td>-0.125164</td>\n",
       "      <td>-0.142370</td>\n",
       "      <td>-0.067374</td>\n",
       "      <td>-0.052152</td>\n",
       "      <td>-0.218553</td>\n",
       "      <td>-0.030083</td>\n",
       "      <td>...</td>\n",
       "      <td>-0.054677</td>\n",
       "      <td>-0.052735</td>\n",
       "      <td>-0.051751</td>\n",
       "      <td>-0.051984</td>\n",
       "      <td>-0.127584</td>\n",
       "      <td>-0.211926</td>\n",
       "      <td>-0.231118</td>\n",
       "      <td>0.483470</td>\n",
       "      <td>-0.090635</td>\n",
       "      <td>-0.050701</td>\n",
       "    </tr>\n",
       "    <tr>\n",
       "      <th>1</th>\n",
       "      <td>DB00521</td>\n",
       "      <td>-0.079809</td>\n",
       "      <td>-0.042563</td>\n",
       "      <td>-0.042563</td>\n",
       "      <td>-0.125227</td>\n",
       "      <td>-0.142349</td>\n",
       "      <td>-0.067374</td>\n",
       "      <td>-0.052152</td>\n",
       "      <td>-0.208243</td>\n",
       "      <td>-0.030083</td>\n",
       "      <td>...</td>\n",
       "      <td>-0.054623</td>\n",
       "      <td>-0.052735</td>\n",
       "      <td>-0.051751</td>\n",
       "      <td>-0.051984</td>\n",
       "      <td>-0.174903</td>\n",
       "      <td>-0.211926</td>\n",
       "      <td>-0.154916</td>\n",
       "      <td>-0.322516</td>\n",
       "      <td>-0.073146</td>\n",
       "      <td>-0.050701</td>\n",
       "    </tr>\n",
       "    <tr>\n",
       "      <th>2</th>\n",
       "      <td>DB00843</td>\n",
       "      <td>-0.079809</td>\n",
       "      <td>-0.042563</td>\n",
       "      <td>-0.042563</td>\n",
       "      <td>-0.124773</td>\n",
       "      <td>-0.142370</td>\n",
       "      <td>-0.067374</td>\n",
       "      <td>-0.052152</td>\n",
       "      <td>-0.216274</td>\n",
       "      <td>-0.030083</td>\n",
       "      <td>...</td>\n",
       "      <td>-0.054677</td>\n",
       "      <td>-0.052692</td>\n",
       "      <td>-0.051751</td>\n",
       "      <td>-0.051984</td>\n",
       "      <td>-0.142617</td>\n",
       "      <td>-0.209812</td>\n",
       "      <td>-0.250390</td>\n",
       "      <td>0.014273</td>\n",
       "      <td>-0.090635</td>\n",
       "      <td>-0.050701</td>\n",
       "    </tr>\n",
       "    <tr>\n",
       "      <th>3</th>\n",
       "      <td>DB06262</td>\n",
       "      <td>-0.079809</td>\n",
       "      <td>-0.042563</td>\n",
       "      <td>-0.042563</td>\n",
       "      <td>-0.125227</td>\n",
       "      <td>-0.142370</td>\n",
       "      <td>-0.067374</td>\n",
       "      <td>-0.052152</td>\n",
       "      <td>3.546667</td>\n",
       "      <td>-0.030083</td>\n",
       "      <td>...</td>\n",
       "      <td>-0.054677</td>\n",
       "      <td>-0.052735</td>\n",
       "      <td>-0.051751</td>\n",
       "      <td>-0.051984</td>\n",
       "      <td>-0.174903</td>\n",
       "      <td>-0.211926</td>\n",
       "      <td>-0.260254</td>\n",
       "      <td>-0.322516</td>\n",
       "      <td>-0.090635</td>\n",
       "      <td>-0.050701</td>\n",
       "    </tr>\n",
       "    <tr>\n",
       "      <th>4</th>\n",
       "      <td>DB00415</td>\n",
       "      <td>-0.079809</td>\n",
       "      <td>-0.042563</td>\n",
       "      <td>-0.042563</td>\n",
       "      <td>-0.125227</td>\n",
       "      <td>-0.142370</td>\n",
       "      <td>-0.067374</td>\n",
       "      <td>-0.052152</td>\n",
       "      <td>6.872592</td>\n",
       "      <td>-0.030083</td>\n",
       "      <td>...</td>\n",
       "      <td>-0.054677</td>\n",
       "      <td>-0.052735</td>\n",
       "      <td>-0.051751</td>\n",
       "      <td>-0.051984</td>\n",
       "      <td>-0.174903</td>\n",
       "      <td>-0.211926</td>\n",
       "      <td>-0.260254</td>\n",
       "      <td>-0.322516</td>\n",
       "      <td>-0.090635</td>\n",
       "      <td>-0.050701</td>\n",
       "    </tr>\n",
       "    <tr>\n",
       "      <th>5</th>\n",
       "      <td>DB00818</td>\n",
       "      <td>-0.079809</td>\n",
       "      <td>-0.042563</td>\n",
       "      <td>-0.042563</td>\n",
       "      <td>-0.125154</td>\n",
       "      <td>-0.140378</td>\n",
       "      <td>-0.067374</td>\n",
       "      <td>-0.052152</td>\n",
       "      <td>-0.218659</td>\n",
       "      <td>-0.030083</td>\n",
       "      <td>...</td>\n",
       "      <td>-0.054610</td>\n",
       "      <td>-0.052676</td>\n",
       "      <td>-0.051751</td>\n",
       "      <td>-0.051255</td>\n",
       "      <td>0.096379</td>\n",
       "      <td>-0.175730</td>\n",
       "      <td>-0.237928</td>\n",
       "      <td>0.231855</td>\n",
       "      <td>-0.089306</td>\n",
       "      <td>-0.050701</td>\n",
       "    </tr>\n",
       "    <tr>\n",
       "      <th>6</th>\n",
       "      <td>DB00754</td>\n",
       "      <td>-0.079809</td>\n",
       "      <td>-0.042563</td>\n",
       "      <td>-0.042563</td>\n",
       "      <td>-0.125227</td>\n",
       "      <td>-0.142370</td>\n",
       "      <td>-0.067374</td>\n",
       "      <td>-0.052152</td>\n",
       "      <td>-0.218861</td>\n",
       "      <td>-0.030083</td>\n",
       "      <td>...</td>\n",
       "      <td>-0.054677</td>\n",
       "      <td>-0.052735</td>\n",
       "      <td>-0.051751</td>\n",
       "      <td>-0.051984</td>\n",
       "      <td>-0.174296</td>\n",
       "      <td>-0.211926</td>\n",
       "      <td>0.006208</td>\n",
       "      <td>-0.322516</td>\n",
       "      <td>-0.086557</td>\n",
       "      <td>-0.050701</td>\n",
       "    </tr>\n",
       "    <tr>\n",
       "      <th>7</th>\n",
       "      <td>DB00956</td>\n",
       "      <td>-0.079809</td>\n",
       "      <td>-0.042563</td>\n",
       "      <td>-0.042563</td>\n",
       "      <td>-0.125227</td>\n",
       "      <td>-0.142370</td>\n",
       "      <td>-0.067374</td>\n",
       "      <td>-0.052152</td>\n",
       "      <td>-0.219000</td>\n",
       "      <td>-0.030083</td>\n",
       "      <td>...</td>\n",
       "      <td>-0.054677</td>\n",
       "      <td>-0.052710</td>\n",
       "      <td>-0.051751</td>\n",
       "      <td>-0.051889</td>\n",
       "      <td>-0.174903</td>\n",
       "      <td>-0.210148</td>\n",
       "      <td>-0.259712</td>\n",
       "      <td>0.662643</td>\n",
       "      <td>-0.090635</td>\n",
       "      <td>-0.048227</td>\n",
       "    </tr>\n",
       "    <tr>\n",
       "      <th>8</th>\n",
       "      <td>DB00204</td>\n",
       "      <td>-0.079809</td>\n",
       "      <td>-0.042563</td>\n",
       "      <td>-0.042563</td>\n",
       "      <td>-0.122611</td>\n",
       "      <td>-0.131676</td>\n",
       "      <td>-0.067374</td>\n",
       "      <td>-0.052152</td>\n",
       "      <td>-0.162693</td>\n",
       "      <td>-0.030083</td>\n",
       "      <td>...</td>\n",
       "      <td>-0.053413</td>\n",
       "      <td>-0.047430</td>\n",
       "      <td>-0.051751</td>\n",
       "      <td>-0.046824</td>\n",
       "      <td>-0.171833</td>\n",
       "      <td>-0.187591</td>\n",
       "      <td>-0.231425</td>\n",
       "      <td>-0.317716</td>\n",
       "      <td>-0.085200</td>\n",
       "      <td>-0.050701</td>\n",
       "    </tr>\n",
       "    <tr>\n",
       "      <th>9</th>\n",
       "      <td>DB00517</td>\n",
       "      <td>-0.079809</td>\n",
       "      <td>-0.042563</td>\n",
       "      <td>-0.042563</td>\n",
       "      <td>-0.125227</td>\n",
       "      <td>-0.142090</td>\n",
       "      <td>-0.067374</td>\n",
       "      <td>-0.052152</td>\n",
       "      <td>0.511181</td>\n",
       "      <td>-0.030083</td>\n",
       "      <td>...</td>\n",
       "      <td>-0.054677</td>\n",
       "      <td>-0.052399</td>\n",
       "      <td>-0.050132</td>\n",
       "      <td>-0.050549</td>\n",
       "      <td>-0.172673</td>\n",
       "      <td>-0.080634</td>\n",
       "      <td>-0.218975</td>\n",
       "      <td>-0.305161</td>\n",
       "      <td>-0.090635</td>\n",
       "      <td>0.058491</td>\n",
       "    </tr>\n",
       "  </tbody>\n",
       "</table>\n",
       "<p>10 rows × 33 columns</p>\n",
       "</div>"
      ],
      "text/plain": [
       "   node_id     emb_0     emb_1     emb_2     emb_3     emb_4     emb_5  \\\n",
       "0  DB01620 -0.079809 -0.042563 -0.042563 -0.125164 -0.142370 -0.067374   \n",
       "1  DB00521 -0.079809 -0.042563 -0.042563 -0.125227 -0.142349 -0.067374   \n",
       "2  DB00843 -0.079809 -0.042563 -0.042563 -0.124773 -0.142370 -0.067374   \n",
       "3  DB06262 -0.079809 -0.042563 -0.042563 -0.125227 -0.142370 -0.067374   \n",
       "4  DB00415 -0.079809 -0.042563 -0.042563 -0.125227 -0.142370 -0.067374   \n",
       "5  DB00818 -0.079809 -0.042563 -0.042563 -0.125154 -0.140378 -0.067374   \n",
       "6  DB00754 -0.079809 -0.042563 -0.042563 -0.125227 -0.142370 -0.067374   \n",
       "7  DB00956 -0.079809 -0.042563 -0.042563 -0.125227 -0.142370 -0.067374   \n",
       "8  DB00204 -0.079809 -0.042563 -0.042563 -0.122611 -0.131676 -0.067374   \n",
       "9  DB00517 -0.079809 -0.042563 -0.042563 -0.125227 -0.142090 -0.067374   \n",
       "\n",
       "      emb_6     emb_7     emb_8  ...    emb_22    emb_23    emb_24    emb_25  \\\n",
       "0 -0.052152 -0.218553 -0.030083  ... -0.054677 -0.052735 -0.051751 -0.051984   \n",
       "1 -0.052152 -0.208243 -0.030083  ... -0.054623 -0.052735 -0.051751 -0.051984   \n",
       "2 -0.052152 -0.216274 -0.030083  ... -0.054677 -0.052692 -0.051751 -0.051984   \n",
       "3 -0.052152  3.546667 -0.030083  ... -0.054677 -0.052735 -0.051751 -0.051984   \n",
       "4 -0.052152  6.872592 -0.030083  ... -0.054677 -0.052735 -0.051751 -0.051984   \n",
       "5 -0.052152 -0.218659 -0.030083  ... -0.054610 -0.052676 -0.051751 -0.051255   \n",
       "6 -0.052152 -0.218861 -0.030083  ... -0.054677 -0.052735 -0.051751 -0.051984   \n",
       "7 -0.052152 -0.219000 -0.030083  ... -0.054677 -0.052710 -0.051751 -0.051889   \n",
       "8 -0.052152 -0.162693 -0.030083  ... -0.053413 -0.047430 -0.051751 -0.046824   \n",
       "9 -0.052152  0.511181 -0.030083  ... -0.054677 -0.052399 -0.050132 -0.050549   \n",
       "\n",
       "     emb_26    emb_27    emb_28    emb_29    emb_30    emb_31  \n",
       "0 -0.127584 -0.211926 -0.231118  0.483470 -0.090635 -0.050701  \n",
       "1 -0.174903 -0.211926 -0.154916 -0.322516 -0.073146 -0.050701  \n",
       "2 -0.142617 -0.209812 -0.250390  0.014273 -0.090635 -0.050701  \n",
       "3 -0.174903 -0.211926 -0.260254 -0.322516 -0.090635 -0.050701  \n",
       "4 -0.174903 -0.211926 -0.260254 -0.322516 -0.090635 -0.050701  \n",
       "5  0.096379 -0.175730 -0.237928  0.231855 -0.089306 -0.050701  \n",
       "6 -0.174296 -0.211926  0.006208 -0.322516 -0.086557 -0.050701  \n",
       "7 -0.174903 -0.210148 -0.259712  0.662643 -0.090635 -0.048227  \n",
       "8 -0.171833 -0.187591 -0.231425 -0.317716 -0.085200 -0.050701  \n",
       "9 -0.172673 -0.080634 -0.218975 -0.305161 -0.090635  0.058491  \n",
       "\n",
       "[10 rows x 33 columns]"
      ]
     },
     "execution_count": 83,
     "metadata": {},
     "output_type": "execute_result"
    }
   ],
   "source": [
    "embedding = embedding_machine.fit(pagerank_scores)\n",
    "embedding.head(10)"
   ]
  },
  {
   "cell_type": "markdown",
   "id": "92addc1e",
   "metadata": {},
   "source": [
    "# 5. Classifier Training and Inference 🔮"
   ]
  },
  {
   "cell_type": "markdown",
   "id": "62e14a02",
   "metadata": {},
   "source": [
    "\n",
    "![title](https://github.com/benedekrozemberczki/datasets/raw/master/images/pair_scoring_D.jpg)"
   ]
  },
  {
   "cell_type": "markdown",
   "id": "554ab6ff",
   "metadata": {},
   "source": [
    "We will generate drug pair features using a Tigerlily [Hadamard operator](https://snap.stanford.edu/node2vec/)."
   ]
  },
  {
   "cell_type": "code",
   "execution_count": 84,
   "id": "48e9a4bf",
   "metadata": {},
   "outputs": [],
   "source": [
    "drug_pair_features = embedding_machine.create_features(target, hadamard_operator)"
   ]
  },
  {
   "cell_type": "markdown",
   "id": "87c466aa",
   "metadata": {},
   "source": [
    "We define a gradient boosted tree classifier, create dataset splits and fit the model the to training portion. "
   ]
  },
  {
   "cell_type": "code",
   "execution_count": 85,
   "id": "ede5689d",
   "metadata": {},
   "outputs": [
    {
     "data": {
      "text/plain": [
       "LGBMClassifier(learning_rate=0.01)"
      ]
     },
     "execution_count": 85,
     "metadata": {},
     "output_type": "execute_result"
    }
   ],
   "source": [
    "model = LGBMClassifier(learning_rate=0.01, n_estimators=100)\n",
    "\n",
    "X_train, X_test, y_train, y_test = train_test_split(drug_pair_features,\n",
    "                                                    target,\n",
    "                                                    train_size=0.8,\n",
    "                                                    random_state=42)\n",
    "\n",
    "model.fit(X_train,y_train[\"label\"])"
   ]
  },
  {
   "cell_type": "markdown",
   "id": "53546653",
   "metadata": {},
   "source": [
    "We predict the labels for the test set."
   ]
  },
  {
   "cell_type": "code",
   "execution_count": 86,
   "id": "f7c36363",
   "metadata": {},
   "outputs": [],
   "source": [
    "predicted_label = model.predict_proba(X_test)"
   ]
  },
  {
   "cell_type": "markdown",
   "id": "e7fe13a0",
   "metadata": {},
   "source": [
    "We compute a performance metric for the predictive task."
   ]
  },
  {
   "cell_type": "code",
   "execution_count": 87,
   "id": "d04f9e32",
   "metadata": {},
   "outputs": [
    {
     "name": "stdout",
     "output_type": "stream",
     "text": [
      "AUROC score: 0.9475\n"
     ]
    }
   ],
   "source": [
    "auroc_score_value = roc_auc_score(y_test[\"label\"], predicted_label[:,1])\n",
    "print(f'AUROC score: {auroc_score_value :.4f}')"
   ]
  },
  {
   "cell_type": "markdown",
   "id": "84a95f89",
   "metadata": {},
   "source": [
    "Let us look at those scores closer!"
   ]
  },
  {
   "cell_type": "code",
   "execution_count": 88,
   "id": "7900700d",
   "metadata": {},
   "outputs": [
    {
     "data": {
      "text/html": [
       "<div>\n",
       "<style scoped>\n",
       "    .dataframe tbody tr th:only-of-type {\n",
       "        vertical-align: middle;\n",
       "    }\n",
       "\n",
       "    .dataframe tbody tr th {\n",
       "        vertical-align: top;\n",
       "    }\n",
       "\n",
       "    .dataframe thead th {\n",
       "        text-align: right;\n",
       "    }\n",
       "</style>\n",
       "<table border=\"1\" class=\"dataframe\">\n",
       "  <thead>\n",
       "    <tr style=\"text-align: right;\">\n",
       "      <th></th>\n",
       "      <th>drug_1</th>\n",
       "      <th>drug_2</th>\n",
       "      <th>label</th>\n",
       "      <th>prediction</th>\n",
       "    </tr>\n",
       "  </thead>\n",
       "  <tbody>\n",
       "    <tr>\n",
       "      <th>157672</th>\n",
       "      <td>DB00850</td>\n",
       "      <td>DB00260</td>\n",
       "      <td>0</td>\n",
       "      <td>0.360778</td>\n",
       "    </tr>\n",
       "    <tr>\n",
       "      <th>117533</th>\n",
       "      <td>DB00936</td>\n",
       "      <td>DB01337</td>\n",
       "      <td>0</td>\n",
       "      <td>0.428537</td>\n",
       "    </tr>\n",
       "    <tr>\n",
       "      <th>17186</th>\n",
       "      <td>DB00384</td>\n",
       "      <td>DB01024</td>\n",
       "      <td>1</td>\n",
       "      <td>0.589512</td>\n",
       "    </tr>\n",
       "    <tr>\n",
       "      <th>93575</th>\n",
       "      <td>DB00547</td>\n",
       "      <td>DB09118</td>\n",
       "      <td>1</td>\n",
       "      <td>0.650235</td>\n",
       "    </tr>\n",
       "    <tr>\n",
       "      <th>99136</th>\n",
       "      <td>DB00582</td>\n",
       "      <td>DB00648</td>\n",
       "      <td>1</td>\n",
       "      <td>0.607848</td>\n",
       "    </tr>\n",
       "    <tr>\n",
       "      <th>31134</th>\n",
       "      <td>DB00199</td>\n",
       "      <td>DB01179</td>\n",
       "      <td>1</td>\n",
       "      <td>0.700403</td>\n",
       "    </tr>\n",
       "    <tr>\n",
       "      <th>131013</th>\n",
       "      <td>DB01117</td>\n",
       "      <td>DB00921</td>\n",
       "      <td>0</td>\n",
       "      <td>0.542052</td>\n",
       "    </tr>\n",
       "    <tr>\n",
       "      <th>93887</th>\n",
       "      <td>DB00679</td>\n",
       "      <td>DB09238</td>\n",
       "      <td>1</td>\n",
       "      <td>0.669026</td>\n",
       "    </tr>\n",
       "    <tr>\n",
       "      <th>40741</th>\n",
       "      <td>DB00483</td>\n",
       "      <td>DB06204</td>\n",
       "      <td>1</td>\n",
       "      <td>0.750296</td>\n",
       "    </tr>\n",
       "    <tr>\n",
       "      <th>176400</th>\n",
       "      <td>DB00419</td>\n",
       "      <td>DB00850</td>\n",
       "      <td>0</td>\n",
       "      <td>0.479897</td>\n",
       "    </tr>\n",
       "  </tbody>\n",
       "</table>\n",
       "</div>"
      ],
      "text/plain": [
       "         drug_1   drug_2  label  prediction\n",
       "157672  DB00850  DB00260      0    0.360778\n",
       "117533  DB00936  DB01337      0    0.428537\n",
       "17186   DB00384  DB01024      1    0.589512\n",
       "93575   DB00547  DB09118      1    0.650235\n",
       "99136   DB00582  DB00648      1    0.607848\n",
       "31134   DB00199  DB01179      1    0.700403\n",
       "131013  DB01117  DB00921      0    0.542052\n",
       "93887   DB00679  DB09238      1    0.669026\n",
       "40741   DB00483  DB06204      1    0.750296\n",
       "176400  DB00419  DB00850      0    0.479897"
      ]
     },
     "execution_count": 88,
     "metadata": {},
     "output_type": "execute_result"
    }
   ],
   "source": [
    "y_test[\"prediction\"] = predicted_label[:,1]\n",
    "y_test.head(10)"
   ]
  },
  {
   "cell_type": "markdown",
   "id": "b7e59d9e",
   "metadata": {},
   "source": [
    "# 6. Ideas and Readings 🤔\n",
    "\n",
    "This notebook is ideal to get started with **TigerLily** on a very specific problem. It can be extended and you can also read more about drug interaction prediction models, tasks and datasets!"
   ]
  },
  {
   "cell_type": "markdown",
   "id": "8b71465b",
   "metadata": {},
   "source": [
    "## 6.1. Ideas, extensions and potential applications💡\n",
    "\n",
    "- Try out other classifiers such as logistic regression.\n",
    "\n",
    "- Tune the Personalized PageRank computation, node embedding and classifier hyperparameters!\n",
    "\n",
    "- Early warning systems for drug discovery in the pre-clinical phase.\n",
    "\n",
    "- Augment drug synergy prediction systems and do multi-objective-optimization by using interaction scores.\n",
    "\n",
    "- Predict polypharmacy side effects of drug pairings with TigerLily."
   ]
  },
  {
   "cell_type": "markdown",
   "id": "28e66fbd",
   "metadata": {},
   "source": [
    "## 6.2. Readings 📘 📗 📙"
   ]
  },
  {
   "cell_type": "markdown",
   "id": "dba88538",
   "metadata": {},
   "source": [
    "### 6.2.1. Papers 📚\n",
    "\n",
    "- [Therapeutics Data Commons: Machine Learning Datasets and Tasks for Drug Discovery and Development](https://arxiv.org/abs/2102.09548)\n",
    "- [ChemicalX: A Deep Learning Library for Drug Pair Scoring](https://arxiv.org/abs/2202.05240)\n",
    "- [Modeling Polypharmacy Side Effects with Graph Convolutional Networks](https://academic.oup.com/bioinformatics/article/34/13/i457/5045770)\n",
    "- [A Unified View of Relational Deep Learning for Drug Pair Scoring](https://arxiv.org/abs/2111.02916)\n",
    "\n",
    "### 6.2.2. Links 🕸️\n",
    "\n",
    "- [TigerGraph](https://www.tigergraph.com/)\n",
    "- [TigerGraph Cloud](https://tgcloud.io/)\n",
    "- [TigerGraph Data Science](https://www.tigergraph.com/graph-data-science-library/)\n",
    "- [ChemicalX](https://github.com/AstraZeneca/chemicalx)\n",
    "- [Therapeutic Data Commons](https://tdcommons.ai/)\n",
    "- [BioSNAP](http://snap.stanford.edu/biodata/)\n",
    "- [Awesome Drug Pair Scoring](https://github.com/AstraZeneca/awesome-drug-pair-scoring)"
   ]
  },
  {
   "cell_type": "markdown",
   "id": "0af523cc",
   "metadata": {},
   "source": [
    "# 7. Author 🦸\n",
    "\n",
    "- Author: Benedek Rozemberczki\n",
    "- E-mail: benedek.rozemberczki@gmail.com\n",
    "- Date: 2022.04.12."
   ]
  }
 ],
 "metadata": {
  "kernelspec": {
   "display_name": "Python 3",
   "language": "python",
   "name": "python3"
  },
  "language_info": {
   "codemirror_mode": {
    "name": "ipython",
    "version": 3
   },
   "file_extension": ".py",
   "mimetype": "text/x-python",
   "name": "python",
   "nbconvert_exporter": "python",
   "pygments_lexer": "ipython3",
   "version": "3.8.5"
  }
 },
 "nbformat": 4,
 "nbformat_minor": 5
}
