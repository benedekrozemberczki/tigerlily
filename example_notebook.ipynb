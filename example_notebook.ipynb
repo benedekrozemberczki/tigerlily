{
 "cells": [
  {
   "cell_type": "markdown",
   "id": "1d36ef22",
   "metadata": {},
   "source": [
    "![title](https://github.com/benedekrozemberczki/datasets/raw/master/images/tigerlily_logo.jpg)"
   ]
  },
  {
   "cell_type": "markdown",
   "id": "5268453b",
   "metadata": {},
   "source": [
    "# What do we achieve by using Tigerlily? Why do we care?"
   ]
  },
  {
   "cell_type": "markdown",
   "id": "db2da4d2",
   "metadata": {},
   "source": [
    "![title](https://github.com/benedekrozemberczki/datasets/raw/master/images/pair_scoring.jpg)"
   ]
  },
  {
   "cell_type": "markdown",
   "id": "dd055fe0",
   "metadata": {},
   "source": [
    "# 1. Imports"
   ]
  },
  {
   "cell_type": "markdown",
   "id": "8bacd877",
   "metadata": {},
   "source": [
    "## 1.1. Tigerlily specific imports"
   ]
  },
  {
   "cell_type": "code",
   "execution_count": 2,
   "id": "a09507eb",
   "metadata": {},
   "outputs": [],
   "source": [
    "from tigerlily.dataset import ExampleDataset\n",
    "from tigerlily.embedding import EmbeddingMachine\n",
    "from tigerlily.pagerank import PersonalizedPageRankMachine\n",
    "from tigerlily.operator import hadamard_operator, concatenation_operator"
   ]
  },
  {
   "cell_type": "markdown",
   "id": "c8c012b0",
   "metadata": {},
   "source": [
    "# 1.2. General data manipulation and machine learning imports"
   ]
  },
  {
   "cell_type": "code",
   "execution_count": 3,
   "id": "ca4a242b",
   "metadata": {},
   "outputs": [
    {
     "data": {
      "text/html": [
       "<style type='text/css'>\n",
       ".datatable table.frame { margin-bottom: 0; }\n",
       ".datatable table.frame thead { border-bottom: none; }\n",
       ".datatable table.frame tr.coltypes td {  color: #FFFFFF;  line-height: 6px;  padding: 0 0.5em;}\n",
       ".datatable .bool    { background: #DDDD99; }\n",
       ".datatable .object  { background: #565656; }\n",
       ".datatable .int     { background: #5D9E5D; }\n",
       ".datatable .float   { background: #4040CC; }\n",
       ".datatable .str     { background: #CC4040; }\n",
       ".datatable .time    { background: #40CC40; }\n",
       ".datatable .row_index {  background: var(--jp-border-color3);  border-right: 1px solid var(--jp-border-color0);  color: var(--jp-ui-font-color3);  font-size: 9px;}\n",
       ".datatable .frame tbody td { text-align: left; }\n",
       ".datatable .frame tr.coltypes .row_index {  background: var(--jp-border-color0);}\n",
       ".datatable th:nth-child(2) { padding-left: 12px; }\n",
       ".datatable .hellipsis {  color: var(--jp-cell-editor-border-color);}\n",
       ".datatable .vellipsis {  background: var(--jp-layout-color0);  color: var(--jp-cell-editor-border-color);}\n",
       ".datatable .na {  color: var(--jp-cell-editor-border-color);  font-size: 80%;}\n",
       ".datatable .sp {  opacity: 0.25;}\n",
       ".datatable .footer { font-size: 9px; }\n",
       ".datatable .frame_dimensions {  background: var(--jp-border-color3);  border-top: 1px solid var(--jp-border-color0);  color: var(--jp-ui-font-color3);  display: inline-block;  opacity: 0.6;  padding: 1px 10px 1px 5px;}\n",
       "</style>\n"
      ],
      "text/plain": [
       "<IPython.core.display.HTML object>"
      ]
     },
     "metadata": {},
     "output_type": "display_data"
    }
   ],
   "source": [
    "import pandas as pd\n",
    "from lightgbm import LGBMClassifier\n",
    "from sklearn.metrics import roc_auc_score\n",
    "from sklearn.model_selection import train_test_split"
   ]
  },
  {
   "cell_type": "markdown",
   "id": "9252bb9e",
   "metadata": {},
   "source": [
    "# 2. DrugBank DDI and BioSNAP Loading"
   ]
  },
  {
   "cell_type": "code",
   "execution_count": 4,
   "id": "d5daa823",
   "metadata": {},
   "outputs": [],
   "source": [
    "dataset = ExampleDataset()"
   ]
  },
  {
   "cell_type": "code",
   "execution_count": 5,
   "id": "ec8a0da1",
   "metadata": {},
   "outputs": [
    {
     "name": "stdout",
     "output_type": "stream",
     "text": [
      "(816683, 4)\n",
      "(187850, 3)\n"
     ]
    }
   ],
   "source": [
    "edges = dataset.read_edges()\n",
    "target = dataset.read_target()\n",
    "\n",
    "print(edges.shape)\n",
    "print(target.shape)"
   ]
  },
  {
   "cell_type": "markdown",
   "id": "e017ef65",
   "metadata": {},
   "source": [
    "# 3. PageRank Computation with TigerGraph\n",
    "\n"
   ]
  },
  {
   "cell_type": "markdown",
   "id": "c8d125c4",
   "metadata": {},
   "source": [
    "![title](https://github.com/benedekrozemberczki/datasets/raw/master/images/pair_scoring_A.jpg)"
   ]
  },
  {
   "cell_type": "markdown",
   "id": "6075cf02",
   "metadata": {},
   "source": [
    "## 3.1. Etablishing a connection and installing the Personalized PageRank query"
   ]
  },
  {
   "cell_type": "code",
   "execution_count": null,
   "id": "34dd3a9e",
   "metadata": {},
   "outputs": [],
   "source": [
    "machine = PersonalizedPageRankMachine(host=\"https://tigerlily.i.tgcloud.io\",\n",
    "                           graphname=\"tester\",\n",
    "                           secret=\"\",\n",
    "                           password=\"\")"
   ]
  },
  {
   "cell_type": "code",
   "execution_count": null,
   "id": "284eef5d",
   "metadata": {},
   "outputs": [],
   "source": [
    "machine.connect()"
   ]
  },
  {
   "cell_type": "code",
   "execution_count": null,
   "id": "1aeb7442",
   "metadata": {},
   "outputs": [],
   "source": [
    "machine.install_query()"
   ]
  },
  {
   "cell_type": "markdown",
   "id": "4455ee72",
   "metadata": {},
   "source": [
    "## 3.2. Defining a graph and computing Personalized PageRank for the drug nodes"
   ]
  },
  {
   "cell_type": "markdown",
   "id": "6e020103",
   "metadata": {},
   "source": [
    "![title](https://github.com/benedekrozemberczki/datasets/raw/master/images/pair_scoring_B.jpg)"
   ]
  },
  {
   "cell_type": "code",
   "execution_count": null,
   "id": "edc5d7c3",
   "metadata": {},
   "outputs": [],
   "source": [
    "machine.upload_graph(new_graph=True, edges=edges)"
   ]
  },
  {
   "cell_type": "code",
   "execution_count": null,
   "id": "d83f644b",
   "metadata": {},
   "outputs": [],
   "source": [
    "drug_node_ids = machine.connection.getVertices(\"drug\")"
   ]
  },
  {
   "cell_type": "code",
   "execution_count": null,
   "id": "c9514718",
   "metadata": {},
   "outputs": [],
   "source": [
    "pagerank_scores = machine.get_personalized_pagerank(drug_node_ids)"
   ]
  },
  {
   "cell_type": "markdown",
   "id": "8ac05198",
   "metadata": {},
   "source": [
    "# 4. Embedding learning from Personalized PageRank scores"
   ]
  },
  {
   "cell_type": "markdown",
   "id": "72a2d97c",
   "metadata": {},
   "source": [
    "![title](https://github.com/benedekrozemberczki/datasets/raw/master/images/pair_scoring_C.jpg)"
   ]
  },
  {
   "cell_type": "code",
   "execution_count": 23,
   "id": "7a2df269",
   "metadata": {},
   "outputs": [
    {
     "name": "stdout",
     "output_type": "stream",
     "text": [
      "(54110, 3)\n"
     ]
    }
   ],
   "source": [
    "pagerank_scores = dataset.read_pagerank()\n",
    "print(pagerank_scores.shape)"
   ]
  },
  {
   "cell_type": "code",
   "execution_count": 24,
   "id": "4b8d7dad",
   "metadata": {},
   "outputs": [],
   "source": [
    "embedding_machine = EmbeddingMachine(42, 32, 100)\n",
    "\n",
    "embedding = embedding_machine.fit(pagerank_scores)"
   ]
  },
  {
   "cell_type": "markdown",
   "id": "56319dfe",
   "metadata": {},
   "source": [
    "# 5. Classifier Training and Inference"
   ]
  },
  {
   "cell_type": "markdown",
   "id": "feccb357",
   "metadata": {},
   "source": [
    "\n",
    "![title](https://github.com/benedekrozemberczki/datasets/raw/master/images/pair_scoring_D.jpg)"
   ]
  },
  {
   "cell_type": "code",
   "execution_count": 25,
   "id": "76e8b3a9",
   "metadata": {},
   "outputs": [],
   "source": [
    "drug_pair_features = embedding_machine.create_features(target, concatenation_operator)"
   ]
  },
  {
   "cell_type": "code",
   "execution_count": 29,
   "id": "8bc7322c",
   "metadata": {},
   "outputs": [
    {
     "data": {
      "text/plain": [
       "LGBMClassifier(learning_rate=0.01)"
      ]
     },
     "execution_count": 29,
     "metadata": {},
     "output_type": "execute_result"
    }
   ],
   "source": [
    "model = LGBMClassifier(learning_rate=0.01, n_estimators=100)\n",
    "\n",
    "X_train, X_test, y_train, y_test = train_test_split(drug_pair_features,\n",
    "                                                    target,\n",
    "                                                    train_size=0.8,\n",
    "                                                    random_state=42)\n",
    "\n",
    "model.fit(X_train,y_train[\"label\"])"
   ]
  },
  {
   "cell_type": "code",
   "execution_count": 30,
   "id": "867e4642",
   "metadata": {},
   "outputs": [],
   "source": [
    "predicted_label = model.predict_proba(X_test)"
   ]
  },
  {
   "cell_type": "code",
   "execution_count": 31,
   "id": "73772219",
   "metadata": {},
   "outputs": [
    {
     "name": "stdout",
     "output_type": "stream",
     "text": [
      "AUROC score: 0.9664\n"
     ]
    }
   ],
   "source": [
    "auroc_score_value = roc_auc_score(y_test[\"label\"], predicted_label[:,1])\n",
    "print(f'AUROC score: {auroc_score_value :.4f}')"
   ]
  },
  {
   "cell_type": "markdown",
   "id": "77337720",
   "metadata": {},
   "source": [
    "# 6. Ideas and Readings"
   ]
  },
  {
   "cell_type": "code",
   "execution_count": null,
   "id": "18be39a1",
   "metadata": {},
   "outputs": [],
   "source": []
  },
  {
   "cell_type": "markdown",
   "id": "0a9afcfd",
   "metadata": {},
   "source": [
    "## 6.1. Ideas"
   ]
  },
  {
   "cell_type": "markdown",
   "id": "e2c55573",
   "metadata": {},
   "source": [
    "## 6.2. Readings"
   ]
  },
  {
   "cell_type": "code",
   "execution_count": null,
   "id": "732212d9",
   "metadata": {},
   "outputs": [],
   "source": []
  }
 ],
 "metadata": {
  "kernelspec": {
   "display_name": "Python 3",
   "language": "python",
   "name": "python3"
  },
  "language_info": {
   "codemirror_mode": {
    "name": "ipython",
    "version": 3
   },
   "file_extension": ".py",
   "mimetype": "text/x-python",
   "name": "python",
   "nbconvert_exporter": "python",
   "pygments_lexer": "ipython3",
   "version": "3.8.5"
  }
 },
 "nbformat": 4,
 "nbformat_minor": 5
}
