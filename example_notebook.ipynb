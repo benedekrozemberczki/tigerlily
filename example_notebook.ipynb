{
 "cells": [
  {
   "cell_type": "markdown",
   "id": "c3e98072",
   "metadata": {},
   "source": [
    "![title](images/tigerlily_logo.jpg)"
   ]
  },
  {
   "cell_type": "markdown",
   "id": "c5172791",
   "metadata": {},
   "source": [
    "# What do we achieve by using Tigerlily? Why do we care?"
   ]
  },
  {
   "cell_type": "markdown",
   "id": "53e42bb4",
   "metadata": {},
   "source": [
    "![title](images/pair_scoring.jpg)"
   ]
  },
  {
   "cell_type": "markdown",
   "id": "e4d83d87",
   "metadata": {},
   "source": [
    "# 1. Imports"
   ]
  },
  {
   "cell_type": "markdown",
   "id": "f17792e7",
   "metadata": {},
   "source": [
    "## 1.1. Tigerlily specific imports"
   ]
  },
  {
   "cell_type": "code",
   "execution_count": 1,
   "id": "843acd7e",
   "metadata": {},
   "outputs": [],
   "source": [
    "from tigerlily.dataset import ExampleDataset\n",
    "from tigerlily.embedding import EmbeddingMachine\n",
    "from tigerlily.pagerank import PersonalizedPageRankMachine\n",
    "from tigerlily.operator import hadamard_operator, concatenation_operator"
   ]
  },
  {
   "cell_type": "markdown",
   "id": "47b8efc3",
   "metadata": {},
   "source": [
    "# 1.2. General data manipulation and machine learning imports"
   ]
  },
  {
   "cell_type": "code",
   "execution_count": 2,
   "id": "d1bcc9f4",
   "metadata": {},
   "outputs": [
    {
     "data": {
      "text/html": [
       "<style type='text/css'>\n",
       ".datatable table.frame { margin-bottom: 0; }\n",
       ".datatable table.frame thead { border-bottom: none; }\n",
       ".datatable table.frame tr.coltypes td {  color: #FFFFFF;  line-height: 6px;  padding: 0 0.5em;}\n",
       ".datatable .bool    { background: #DDDD99; }\n",
       ".datatable .object  { background: #565656; }\n",
       ".datatable .int     { background: #5D9E5D; }\n",
       ".datatable .float   { background: #4040CC; }\n",
       ".datatable .str     { background: #CC4040; }\n",
       ".datatable .time    { background: #40CC40; }\n",
       ".datatable .row_index {  background: var(--jp-border-color3);  border-right: 1px solid var(--jp-border-color0);  color: var(--jp-ui-font-color3);  font-size: 9px;}\n",
       ".datatable .frame tbody td { text-align: left; }\n",
       ".datatable .frame tr.coltypes .row_index {  background: var(--jp-border-color0);}\n",
       ".datatable th:nth-child(2) { padding-left: 12px; }\n",
       ".datatable .hellipsis {  color: var(--jp-cell-editor-border-color);}\n",
       ".datatable .vellipsis {  background: var(--jp-layout-color0);  color: var(--jp-cell-editor-border-color);}\n",
       ".datatable .na {  color: var(--jp-cell-editor-border-color);  font-size: 80%;}\n",
       ".datatable .sp {  opacity: 0.25;}\n",
       ".datatable .footer { font-size: 9px; }\n",
       ".datatable .frame_dimensions {  background: var(--jp-border-color3);  border-top: 1px solid var(--jp-border-color0);  color: var(--jp-ui-font-color3);  display: inline-block;  opacity: 0.6;  padding: 1px 10px 1px 5px;}\n",
       "</style>\n"
      ],
      "text/plain": [
       "<IPython.core.display.HTML object>"
      ]
     },
     "metadata": {},
     "output_type": "display_data"
    }
   ],
   "source": [
    "import pandas as pd\n",
    "from lightgbm import LGBMClassifier\n",
    "from sklearn.metrics import roc_auc_score\n",
    "from sklearn.model_selection import train_test_split"
   ]
  },
  {
   "cell_type": "markdown",
   "id": "3468e0f7",
   "metadata": {},
   "source": [
    "# 2. DrugBank DDI and BioSNAP Loading"
   ]
  },
  {
   "cell_type": "code",
   "execution_count": 3,
   "id": "cefcb093",
   "metadata": {},
   "outputs": [],
   "source": [
    "dataset = ExampleDataset()"
   ]
  },
  {
   "cell_type": "code",
   "execution_count": 4,
   "id": "ced93a2d",
   "metadata": {},
   "outputs": [],
   "source": [
    "edges = dataset.read_edges()\n",
    "target = dataset.read_target()"
   ]
  },
  {
   "cell_type": "markdown",
   "id": "e8459766",
   "metadata": {},
   "source": [
    "# 3. PageRank Computation with TigerGraph"
   ]
  },
  {
   "cell_type": "markdown",
   "id": "736b1bc2",
   "metadata": {},
   "source": [
    "## 3.1. Etablishing a connection and installing the Personalized PageRank query"
   ]
  },
  {
   "cell_type": "code",
   "execution_count": null,
   "id": "9c47957a",
   "metadata": {},
   "outputs": [],
   "source": [
    "machine = PersonalizedPageRankMachine(host=\"https://tigerlily.i.tgcloud.io\",\n",
    "                           graphname=\"tester\",\n",
    "                           secret=\"\",\n",
    "                           password=\"\")"
   ]
  },
  {
   "cell_type": "code",
   "execution_count": null,
   "id": "ce291746",
   "metadata": {},
   "outputs": [],
   "source": [
    "machine.connect()"
   ]
  },
  {
   "cell_type": "code",
   "execution_count": null,
   "id": "97688542",
   "metadata": {},
   "outputs": [],
   "source": [
    "machine.install_query()"
   ]
  },
  {
   "cell_type": "markdown",
   "id": "1af396c1",
   "metadata": {},
   "source": [
    "## 3.2. Defining a graph and computing Personalized PageRank for the drug nodes"
   ]
  },
  {
   "cell_type": "code",
   "execution_count": null,
   "id": "8b70c9d1",
   "metadata": {},
   "outputs": [],
   "source": [
    "machine.upload_graph(new_graph=True, edges=edges)"
   ]
  },
  {
   "cell_type": "code",
   "execution_count": null,
   "id": "fe9c236d",
   "metadata": {},
   "outputs": [],
   "source": [
    "drug_node_ids = machine.connection.getVertices(\"drug\")"
   ]
  },
  {
   "cell_type": "code",
   "execution_count": null,
   "id": "9ee18593",
   "metadata": {},
   "outputs": [],
   "source": [
    "pagerank_scores = machine.get_personalized_pagerank(drug_node_ids)"
   ]
  },
  {
   "cell_type": "markdown",
   "id": "df85f7f4",
   "metadata": {},
   "source": [
    "# 4. Embedding learning from Personalized PageRank scores"
   ]
  },
  {
   "cell_type": "code",
   "execution_count": 5,
   "id": "dcae7866",
   "metadata": {},
   "outputs": [],
   "source": [
    "pagerank_scores = dataset.read_pagerank()"
   ]
  },
  {
   "cell_type": "code",
   "execution_count": 6,
   "id": "618f6d28",
   "metadata": {},
   "outputs": [],
   "source": [
    "embedding_machine = EmbeddingMachine(42, 32, 100)\n",
    "\n",
    "embedding = embedding_machine.fit(pagerank_scores)"
   ]
  },
  {
   "cell_type": "markdown",
   "id": "62a6e82c",
   "metadata": {},
   "source": [
    "# 5. Classifier Training and Inference"
   ]
  },
  {
   "cell_type": "code",
   "execution_count": 12,
   "id": "c5c9a03b",
   "metadata": {},
   "outputs": [],
   "source": [
    "drug_pair_features = embedding_machine.create_features(target, concatenation_operator)"
   ]
  },
  {
   "cell_type": "code",
   "execution_count": 13,
   "id": "446af473",
   "metadata": {},
   "outputs": [],
   "source": [
    "X_train, X_test, y_train, y_test = train_test_split(drug_pair_features, target, train_size=0.8, random_state=42)"
   ]
  },
  {
   "cell_type": "code",
   "execution_count": 14,
   "id": "fe8dcbbf",
   "metadata": {},
   "outputs": [
    {
     "data": {
      "text/plain": [
       "LGBMClassifier(learning_rate=0.01)"
      ]
     },
     "execution_count": 14,
     "metadata": {},
     "output_type": "execute_result"
    }
   ],
   "source": [
    "model = LGBMClassifier(learning_rate=0.01, n_estimators=100)\n",
    "model.fit(X_train,y_train[\"label\"])"
   ]
  },
  {
   "cell_type": "code",
   "execution_count": 15,
   "id": "94aeb3d1",
   "metadata": {},
   "outputs": [],
   "source": [
    "predicted_label = model.predict_proba(X_test)"
   ]
  },
  {
   "cell_type": "code",
   "execution_count": 16,
   "id": "71b16309",
   "metadata": {},
   "outputs": [
    {
     "name": "stdout",
     "output_type": "stream",
     "text": [
      "AUROC score: 0.9539\n"
     ]
    }
   ],
   "source": [
    "auroc_score_value = roc_auc_score(y_test[\"label\"], predicted_label[:,1])\n",
    "print(f'AUROC score: {auroc_score_value :.4f}')"
   ]
  },
  {
   "cell_type": "markdown",
   "id": "cef079c4",
   "metadata": {},
   "source": [
    "# 6. Ideas and Readings"
   ]
  },
  {
   "cell_type": "code",
   "execution_count": null,
   "id": "c7bae550",
   "metadata": {},
   "outputs": [],
   "source": []
  },
  {
   "cell_type": "markdown",
   "id": "263f9835",
   "metadata": {},
   "source": [
    "## 6.1. Ideas"
   ]
  },
  {
   "cell_type": "markdown",
   "id": "ea1c333a",
   "metadata": {},
   "source": [
    "## 6.2. Readings"
   ]
  },
  {
   "cell_type": "code",
   "execution_count": null,
   "id": "353adc64",
   "metadata": {},
   "outputs": [],
   "source": []
  }
 ],
 "metadata": {
  "kernelspec": {
   "display_name": "Python 3",
   "language": "python",
   "name": "python3"
  },
  "language_info": {
   "codemirror_mode": {
    "name": "ipython",
    "version": 3
   },
   "file_extension": ".py",
   "mimetype": "text/x-python",
   "name": "python",
   "nbconvert_exporter": "python",
   "pygments_lexer": "ipython3",
   "version": "3.8.5"
  }
 },
 "nbformat": 4,
 "nbformat_minor": 5
}
