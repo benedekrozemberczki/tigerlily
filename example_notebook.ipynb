{
 "cells": [
  {
   "cell_type": "markdown",
   "id": "86c52699",
   "metadata": {},
   "source": [
    "![title](images/tigerlily_logo.jpg)"
   ]
  },
  {
   "cell_type": "markdown",
   "id": "b6e364dc",
   "metadata": {},
   "source": [
    "# What do we achieve by using Tigerlily? Why do we care?"
   ]
  },
  {
   "cell_type": "markdown",
   "id": "44602cbc",
   "metadata": {},
   "source": [
    "![title](images/pair_scoring.jpg)"
   ]
  },
  {
   "cell_type": "markdown",
   "id": "5cb088b1",
   "metadata": {},
   "source": [
    "# 1. Imports"
   ]
  },
  {
   "cell_type": "markdown",
   "id": "11f0d48e",
   "metadata": {},
   "source": [
    "## 1.1. Tigerlily specific imports"
   ]
  },
  {
   "cell_type": "code",
   "execution_count": 1,
   "id": "6f5e47e0",
   "metadata": {},
   "outputs": [],
   "source": [
    "from tigerlily.dataset import ExampleDataset\n",
    "from tigerlily.embedding import EmbeddingMachine\n",
    "from tigerlily.pagerank import PersonalizedPageRankMachine\n",
    "from tigerlily.operator import hadamard_operator, concatenation_operator"
   ]
  },
  {
   "cell_type": "markdown",
   "id": "17764d19",
   "metadata": {},
   "source": [
    "# 1.2. General data manipulation and machine learning imports"
   ]
  },
  {
   "cell_type": "code",
   "execution_count": 2,
   "id": "5bf5b3a4",
   "metadata": {},
   "outputs": [
    {
     "data": {
      "text/html": [
       "<style type='text/css'>\n",
       ".datatable table.frame { margin-bottom: 0; }\n",
       ".datatable table.frame thead { border-bottom: none; }\n",
       ".datatable table.frame tr.coltypes td {  color: #FFFFFF;  line-height: 6px;  padding: 0 0.5em;}\n",
       ".datatable .bool    { background: #DDDD99; }\n",
       ".datatable .object  { background: #565656; }\n",
       ".datatable .int     { background: #5D9E5D; }\n",
       ".datatable .float   { background: #4040CC; }\n",
       ".datatable .str     { background: #CC4040; }\n",
       ".datatable .time    { background: #40CC40; }\n",
       ".datatable .row_index {  background: var(--jp-border-color3);  border-right: 1px solid var(--jp-border-color0);  color: var(--jp-ui-font-color3);  font-size: 9px;}\n",
       ".datatable .frame tbody td { text-align: left; }\n",
       ".datatable .frame tr.coltypes .row_index {  background: var(--jp-border-color0);}\n",
       ".datatable th:nth-child(2) { padding-left: 12px; }\n",
       ".datatable .hellipsis {  color: var(--jp-cell-editor-border-color);}\n",
       ".datatable .vellipsis {  background: var(--jp-layout-color0);  color: var(--jp-cell-editor-border-color);}\n",
       ".datatable .na {  color: var(--jp-cell-editor-border-color);  font-size: 80%;}\n",
       ".datatable .sp {  opacity: 0.25;}\n",
       ".datatable .footer { font-size: 9px; }\n",
       ".datatable .frame_dimensions {  background: var(--jp-border-color3);  border-top: 1px solid var(--jp-border-color0);  color: var(--jp-ui-font-color3);  display: inline-block;  opacity: 0.6;  padding: 1px 10px 1px 5px;}\n",
       "</style>\n"
      ],
      "text/plain": [
       "<IPython.core.display.HTML object>"
      ]
     },
     "metadata": {},
     "output_type": "display_data"
    }
   ],
   "source": [
    "import pandas as pd\n",
    "from lightgbm import LGBMClassifier\n",
    "from sklearn.metrics import roc_auc_score\n",
    "from sklearn.model_selection import train_test_split"
   ]
  },
  {
   "cell_type": "markdown",
   "id": "acaf6045",
   "metadata": {},
   "source": [
    "# 2. DrugBank DDI and BioSNAP Loading"
   ]
  },
  {
   "cell_type": "code",
   "execution_count": 3,
   "id": "ff251cd2",
   "metadata": {},
   "outputs": [],
   "source": [
    "dataset = ExampleDataset()"
   ]
  },
  {
   "cell_type": "code",
   "execution_count": 4,
   "id": "239f5e13",
   "metadata": {},
   "outputs": [
    {
     "name": "stdout",
     "output_type": "stream",
     "text": [
      "(816683, 4)\n",
      "(187850, 3)\n"
     ]
    }
   ],
   "source": [
    "edges = dataset.read_edges()\n",
    "target = dataset.read_target()\n",
    "\n",
    "print(edges.shape)\n",
    "print(target.shape)"
   ]
  },
  {
   "cell_type": "markdown",
   "id": "4038df10",
   "metadata": {},
   "source": [
    "# 3. PageRank Computation with TigerGraph"
   ]
  },
  {
   "cell_type": "markdown",
   "id": "e9b82786",
   "metadata": {},
   "source": [
    "## 3.1. Etablishing a connection and installing the Personalized PageRank query"
   ]
  },
  {
   "cell_type": "code",
   "execution_count": null,
   "id": "2873b8e2",
   "metadata": {},
   "outputs": [],
   "source": [
    "machine = PersonalizedPageRankMachine(host=\"https://tigerlily.i.tgcloud.io\",\n",
    "                           graphname=\"tester\",\n",
    "                           secret=\"\",\n",
    "                           password=\"\")"
   ]
  },
  {
   "cell_type": "code",
   "execution_count": null,
   "id": "597fbcd5",
   "metadata": {},
   "outputs": [],
   "source": [
    "machine.connect()"
   ]
  },
  {
   "cell_type": "code",
   "execution_count": null,
   "id": "25b5344c",
   "metadata": {},
   "outputs": [],
   "source": [
    "machine.install_query()"
   ]
  },
  {
   "cell_type": "markdown",
   "id": "28217b0e",
   "metadata": {},
   "source": [
    "## 3.2. Defining a graph and computing Personalized PageRank for the drug nodes"
   ]
  },
  {
   "cell_type": "code",
   "execution_count": null,
   "id": "44779058",
   "metadata": {},
   "outputs": [],
   "source": [
    "machine.upload_graph(new_graph=True, edges=edges)"
   ]
  },
  {
   "cell_type": "code",
   "execution_count": null,
   "id": "fc5fa5b2",
   "metadata": {},
   "outputs": [],
   "source": [
    "drug_node_ids = machine.connection.getVertices(\"drug\")"
   ]
  },
  {
   "cell_type": "code",
   "execution_count": null,
   "id": "79d74ea6",
   "metadata": {},
   "outputs": [],
   "source": [
    "pagerank_scores = machine.get_personalized_pagerank(drug_node_ids)"
   ]
  },
  {
   "cell_type": "markdown",
   "id": "26264357",
   "metadata": {},
   "source": [
    "# 4. Embedding learning from Personalized PageRank scores"
   ]
  },
  {
   "cell_type": "code",
   "execution_count": 5,
   "id": "0fb33011",
   "metadata": {},
   "outputs": [
    {
     "name": "stdout",
     "output_type": "stream",
     "text": [
      "(54110, 3)\n"
     ]
    }
   ],
   "source": [
    "pagerank_scores = dataset.read_pagerank()\n",
    "print(pagerank_scores.shape)"
   ]
  },
  {
   "cell_type": "code",
   "execution_count": 6,
   "id": "572c7dd6",
   "metadata": {},
   "outputs": [],
   "source": [
    "embedding_machine = EmbeddingMachine(42, 32, 100)\n",
    "\n",
    "embedding = embedding_machine.fit(pagerank_scores)"
   ]
  },
  {
   "cell_type": "markdown",
   "id": "f7322cfd",
   "metadata": {},
   "source": [
    "# 5. Classifier Training and Inference"
   ]
  },
  {
   "cell_type": "code",
   "execution_count": 12,
   "id": "9ad307f7",
   "metadata": {},
   "outputs": [],
   "source": [
    "drug_pair_features = embedding_machine.create_features(target, concatenation_operator)"
   ]
  },
  {
   "cell_type": "code",
   "execution_count": 13,
   "id": "27df9273",
   "metadata": {},
   "outputs": [],
   "source": [
    "X_train, X_test, y_train, y_test = train_test_split(drug_pair_features, target, train_size=0.8, random_state=42)"
   ]
  },
  {
   "cell_type": "code",
   "execution_count": 14,
   "id": "bc7e4a1d",
   "metadata": {},
   "outputs": [
    {
     "data": {
      "text/plain": [
       "LGBMClassifier(learning_rate=0.01)"
      ]
     },
     "execution_count": 14,
     "metadata": {},
     "output_type": "execute_result"
    }
   ],
   "source": [
    "model = LGBMClassifier(learning_rate=0.01, n_estimators=100)\n",
    "model.fit(X_train,y_train[\"label\"])"
   ]
  },
  {
   "cell_type": "code",
   "execution_count": 15,
   "id": "3c82a785",
   "metadata": {},
   "outputs": [],
   "source": [
    "predicted_label = model.predict_proba(X_test)"
   ]
  },
  {
   "cell_type": "code",
   "execution_count": 16,
   "id": "5baf0502",
   "metadata": {},
   "outputs": [
    {
     "name": "stdout",
     "output_type": "stream",
     "text": [
      "AUROC score: 0.9539\n"
     ]
    }
   ],
   "source": [
    "auroc_score_value = roc_auc_score(y_test[\"label\"], predicted_label[:,1])\n",
    "print(f'AUROC score: {auroc_score_value :.4f}')"
   ]
  },
  {
   "cell_type": "markdown",
   "id": "b25796b7",
   "metadata": {},
   "source": [
    "# 6. Ideas and Readings"
   ]
  },
  {
   "cell_type": "code",
   "execution_count": null,
   "id": "61e36b36",
   "metadata": {},
   "outputs": [],
   "source": []
  },
  {
   "cell_type": "markdown",
   "id": "1977709e",
   "metadata": {},
   "source": [
    "## 6.1. Ideas"
   ]
  },
  {
   "cell_type": "markdown",
   "id": "ff6dcf54",
   "metadata": {},
   "source": [
    "## 6.2. Readings"
   ]
  },
  {
   "cell_type": "code",
   "execution_count": null,
   "id": "b756d3f5",
   "metadata": {},
   "outputs": [],
   "source": []
  }
 ],
 "metadata": {
  "kernelspec": {
   "display_name": "Python 3",
   "language": "python",
   "name": "python3"
  },
  "language_info": {
   "codemirror_mode": {
    "name": "ipython",
    "version": 3
   },
   "file_extension": ".py",
   "mimetype": "text/x-python",
   "name": "python",
   "nbconvert_exporter": "python",
   "pygments_lexer": "ipython3",
   "version": "3.8.5"
  }
 },
 "nbformat": 4,
 "nbformat_minor": 5
}
