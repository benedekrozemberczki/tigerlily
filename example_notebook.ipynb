{
 "cells": [
  {
   "cell_type": "markdown",
   "id": "b2f45466",
   "metadata": {},
   "source": [
    "![title](https://github.com/benedekrozemberczki/datasets/raw/master/images/tigerlily_logo.jpg)"
   ]
  },
  {
   "cell_type": "markdown",
   "id": "69961a40",
   "metadata": {},
   "source": [
    "# 🐯 TigerLily: Finding drug interactions in silico with the Graph 🐯\n",
    "\n",
    "### 1. What is TigerLily?\n",
    "### 2. What do we achieve by using Tigerlily? \n",
    "### 3. Why do we care?"
   ]
  },
  {
   "cell_type": "markdown",
   "id": "ef05aff0",
   "metadata": {},
   "source": [
    "![title](https://github.com/benedekrozemberczki/datasets/raw/master/images/pair_scoring.jpg)"
   ]
  },
  {
   "cell_type": "markdown",
   "id": "3d752b6a",
   "metadata": {},
   "source": [
    "# 1. Imports 🚢\n",
    "\n",
    "#### The imports that we use depend on the [TigerLily](https://github.com/benedekrozemberczki/tigerlily) library - the PyPI description of the library is available [here](https://pypi.org/project/tiger/). It can be installed with the pip command!"
   ]
  },
  {
   "cell_type": "markdown",
   "id": "da10c9a4",
   "metadata": {},
   "source": [
    "## 1.1. Tigerlily specific imports 🐅"
   ]
  },
  {
   "cell_type": "markdown",
   "id": "7fa0be80",
   "metadata": {},
   "source": [
    "We use **TigerLily** classes and functions from the following name spaces:\n",
    "    \n",
    "- ``dataset``: Tools for loading the example dataset.\n",
    "- ``embedding``: Machine learning tools for creating node embeddings.\n",
    "- ``pagerank``: Learning personalized pagerank scores of nodes.\n",
    "- ``operator``: Functions to generate the drug pair featurs."
   ]
  },
  {
   "cell_type": "code",
   "execution_count": 13,
   "id": "c9d06fcf",
   "metadata": {},
   "outputs": [],
   "source": [
    "from tigerlily.dataset import ExampleDataset\n",
    "from tigerlily.pagerank import PersonalizedPageRankMachine\n",
    "from tigerlily.embedding import EmbeddingMachine\n",
    "from tigerlily.operator import hadamard_operator, concatenation_operator"
   ]
  },
  {
   "cell_type": "markdown",
   "id": "24362077",
   "metadata": {},
   "source": [
    "## 1.2. General data manipulation and machine learning imports 💾\n",
    "\n",
    "We are going to use import that help with the following:\n",
    "\n",
    "- **[pandas](https://pandas.pydata.org/)** - Tabular data manipulation.\n",
    "- **[lightgbm](https://lightgbm.readthedocs.io/)** - Gradient boosted trees for classification.\n",
    "- **[scikit-learn](https://scikit-learn.org/stable/)** - Train-test set split generations and evaluation metrics."
   ]
  },
  {
   "cell_type": "code",
   "execution_count": 14,
   "id": "e4a27dfd",
   "metadata": {},
   "outputs": [],
   "source": [
    "import pandas as pd\n",
    "from lightgbm import LGBMClassifier\n",
    "from sklearn.metrics import roc_auc_score\n",
    "from sklearn.model_selection import train_test_split"
   ]
  },
  {
   "cell_type": "markdown",
   "id": "1b5bca15",
   "metadata": {},
   "source": [
    "# 2. DrugBank DDI 💊 and BioSNAP🧬 Dataset Loading"
   ]
  },
  {
   "cell_type": "markdown",
   "id": "ef17c67b",
   "metadata": {},
   "source": [
    "We need drug-drug interactions and a biological graph; we use these public dataset sources:\n",
    "    \n",
    "- [Biological Graph - BioSNAP](http://snap.stanford.edu/biodata/)\n",
    "- [Drug Interactions - DrugBank DDI from Therapeutic Data Commons](https://tdcommons.ai/multi_pred_tasks/ddi/)"
   ]
  },
  {
   "cell_type": "code",
   "execution_count": 15,
   "id": "18dc0073",
   "metadata": {},
   "outputs": [],
   "source": [
    "dataset = ExampleDataset()"
   ]
  },
  {
   "cell_type": "code",
   "execution_count": 16,
   "id": "3aa264c5",
   "metadata": {},
   "outputs": [],
   "source": [
    "edges = dataset.read_edges()\n",
    "target = dataset.read_target()"
   ]
  },
  {
   "cell_type": "code",
   "execution_count": 17,
   "id": "2dc28f51",
   "metadata": {},
   "outputs": [
    {
     "data": {
      "text/html": [
       "<div>\n",
       "<style scoped>\n",
       "    .dataframe tbody tr th:only-of-type {\n",
       "        vertical-align: middle;\n",
       "    }\n",
       "\n",
       "    .dataframe tbody tr th {\n",
       "        vertical-align: top;\n",
       "    }\n",
       "\n",
       "    .dataframe thead th {\n",
       "        text-align: right;\n",
       "    }\n",
       "</style>\n",
       "<table border=\"1\" class=\"dataframe\">\n",
       "  <thead>\n",
       "    <tr style=\"text-align: right;\">\n",
       "      <th></th>\n",
       "      <th>drug_1</th>\n",
       "      <th>drug_2</th>\n",
       "      <th>label</th>\n",
       "    </tr>\n",
       "  </thead>\n",
       "  <tbody>\n",
       "    <tr>\n",
       "      <th>0</th>\n",
       "      <td>DB00424</td>\n",
       "      <td>DB08897</td>\n",
       "      <td>1</td>\n",
       "    </tr>\n",
       "    <tr>\n",
       "      <th>1</th>\n",
       "      <td>DB00670</td>\n",
       "      <td>DB06148</td>\n",
       "      <td>1</td>\n",
       "    </tr>\n",
       "    <tr>\n",
       "      <th>2</th>\n",
       "      <td>DB00391</td>\n",
       "      <td>DB00517</td>\n",
       "      <td>1</td>\n",
       "    </tr>\n",
       "    <tr>\n",
       "      <th>3</th>\n",
       "      <td>DB01090</td>\n",
       "      <td>DB09076</td>\n",
       "      <td>1</td>\n",
       "    </tr>\n",
       "    <tr>\n",
       "      <th>4</th>\n",
       "      <td>DB00391</td>\n",
       "      <td>DB00462</td>\n",
       "      <td>1</td>\n",
       "    </tr>\n",
       "  </tbody>\n",
       "</table>\n",
       "</div>"
      ],
      "text/plain": [
       "    drug_1   drug_2  label\n",
       "0  DB00424  DB08897      1\n",
       "1  DB00670  DB06148      1\n",
       "2  DB00391  DB00517      1\n",
       "3  DB01090  DB09076      1\n",
       "4  DB00391  DB00462      1"
      ]
     },
     "execution_count": 17,
     "metadata": {},
     "output_type": "execute_result"
    }
   ],
   "source": [
    "target.head(5)"
   ]
  },
  {
   "cell_type": "code",
   "execution_count": 18,
   "id": "26cc4db9",
   "metadata": {},
   "outputs": [
    {
     "data": {
      "text/html": [
       "<div>\n",
       "<style scoped>\n",
       "    .dataframe tbody tr th:only-of-type {\n",
       "        vertical-align: middle;\n",
       "    }\n",
       "\n",
       "    .dataframe tbody tr th {\n",
       "        vertical-align: top;\n",
       "    }\n",
       "\n",
       "    .dataframe thead th {\n",
       "        text-align: right;\n",
       "    }\n",
       "</style>\n",
       "<table border=\"1\" class=\"dataframe\">\n",
       "  <thead>\n",
       "    <tr style=\"text-align: right;\">\n",
       "      <th></th>\n",
       "      <th>node_1</th>\n",
       "      <th>node_2</th>\n",
       "      <th>type_1</th>\n",
       "      <th>type_2</th>\n",
       "    </tr>\n",
       "  </thead>\n",
       "  <tbody>\n",
       "    <tr>\n",
       "      <th>0</th>\n",
       "      <td>DB00008</td>\n",
       "      <td>ENTREZ:995300</td>\n",
       "      <td>drug</td>\n",
       "      <td>gene</td>\n",
       "    </tr>\n",
       "    <tr>\n",
       "      <th>1</th>\n",
       "      <td>DB00008</td>\n",
       "      <td>ENTREZ:306914</td>\n",
       "      <td>drug</td>\n",
       "      <td>gene</td>\n",
       "    </tr>\n",
       "    <tr>\n",
       "      <th>2</th>\n",
       "      <td>DB00009</td>\n",
       "      <td>ENTREZ:387026</td>\n",
       "      <td>drug</td>\n",
       "      <td>gene</td>\n",
       "    </tr>\n",
       "    <tr>\n",
       "      <th>3</th>\n",
       "      <td>DB00009</td>\n",
       "      <td>ENTREZ:13591824</td>\n",
       "      <td>drug</td>\n",
       "      <td>gene</td>\n",
       "    </tr>\n",
       "    <tr>\n",
       "      <th>4</th>\n",
       "      <td>DB00009</td>\n",
       "      <td>ENTREZ:37605</td>\n",
       "      <td>drug</td>\n",
       "      <td>gene</td>\n",
       "    </tr>\n",
       "  </tbody>\n",
       "</table>\n",
       "</div>"
      ],
      "text/plain": [
       "    node_1           node_2 type_1 type_2\n",
       "0  DB00008    ENTREZ:995300   drug   gene\n",
       "1  DB00008    ENTREZ:306914   drug   gene\n",
       "2  DB00009    ENTREZ:387026   drug   gene\n",
       "3  DB00009  ENTREZ:13591824   drug   gene\n",
       "4  DB00009     ENTREZ:37605   drug   gene"
      ]
     },
     "execution_count": 18,
     "metadata": {},
     "output_type": "execute_result"
    }
   ],
   "source": [
    "edges.head(5)"
   ]
  },
  {
   "cell_type": "markdown",
   "id": "131facd8",
   "metadata": {},
   "source": [
    "# 3. PageRank Computation with TigerGraph 🐯\n",
    "\n"
   ]
  },
  {
   "cell_type": "markdown",
   "id": "ce82b3b6",
   "metadata": {},
   "source": [
    "![title](https://github.com/benedekrozemberczki/datasets/raw/master/images/pair_scoring_A.jpg)"
   ]
  },
  {
   "cell_type": "markdown",
   "id": "5b713020",
   "metadata": {},
   "source": [
    "## 3.1. Etablishing a connection and installing the Personalized PageRank query 📡\n",
    "\n",
    "- You need to add your TigerGraph Cloud instance.\n",
    "- The name of your drug - gene graph that you want to populate.\n",
    "- Your secret for the graph.\n",
    "- The password for the TigerGraph Cloud user."
   ]
  },
  {
   "cell_type": "code",
   "execution_count": 20,
   "id": "e5182ce1",
   "metadata": {},
   "outputs": [],
   "source": [
    "host = \"https://tigerlily.i.tgcloud.io\"\n",
    "\n",
    "graphname = \"tester\"\n",
    "\n",
    "secret = \"secret_goes_here\"\n",
    "\n",
    "password = \"password_goes_here\""
   ]
  },
  {
   "cell_type": "markdown",
   "id": "e4af6276",
   "metadata": {},
   "source": [
    "We will compute the Personalized PageRank of drug nodes using a ``PersonalizedPageRankMachine`` instance."
   ]
  },
  {
   "cell_type": "code",
   "execution_count": null,
   "id": "c974e60c",
   "metadata": {},
   "outputs": [],
   "source": [
    "machine = PersonalizedPageRankMachine(host=host,\n",
    "                                      graphname=graphname,\n",
    "                                      secret=secret,\n",
    "                                      password=password)"
   ]
  },
  {
   "cell_type": "markdown",
   "id": "c588c96c",
   "metadata": {},
   "source": [
    "We connect to the TigerGraph Cloud solution first by using the ``.connect()`` method."
   ]
  },
  {
   "cell_type": "code",
   "execution_count": null,
   "id": "54ec5599",
   "metadata": {},
   "outputs": [],
   "source": [
    "machine.connect()"
   ]
  },
  {
   "cell_type": "markdown",
   "id": "dbf91209",
   "metadata": {},
   "source": [
    "We install the Personalized PageRank query, the ``.install_query()`` method allows the installation of other queries."
   ]
  },
  {
   "cell_type": "code",
   "execution_count": null,
   "id": "c72a0b95",
   "metadata": {},
   "outputs": [],
   "source": [
    "machine.install_query()"
   ]
  },
  {
   "cell_type": "markdown",
   "id": "a3c0642c",
   "metadata": {},
   "source": [
    "We remove the existing edges and upload the edges in the edges pd.DataFrame - this contains **drug-gene** and **gene-gene** edges."
   ]
  },
  {
   "cell_type": "code",
   "execution_count": null,
   "id": "ff461bc3",
   "metadata": {},
   "outputs": [],
   "source": [
    "machine.upload_graph(new_graph=True, edges=edges)"
   ]
  },
  {
   "cell_type": "markdown",
   "id": "f2eaf245",
   "metadata": {},
   "source": [
    "## 3.2. Defining a Graph and computing Personalized PageRank for the drug nodes"
   ]
  },
  {
   "cell_type": "markdown",
   "id": "a7ebe085",
   "metadata": {},
   "source": [
    "![title](https://github.com/benedekrozemberczki/datasets/raw/master/images/pair_scoring_B.jpg)"
   ]
  },
  {
   "cell_type": "markdown",
   "id": "fbf5d9a2",
   "metadata": {},
   "source": [
    "Using the graph connection we get the identifiers of the drug nodes."
   ]
  },
  {
   "cell_type": "code",
   "execution_count": null,
   "id": "436fac3b",
   "metadata": {},
   "outputs": [],
   "source": [
    "drug_node_ids = machine.connection.getVertices(\"drug\")"
   ]
  },
  {
   "cell_type": "markdown",
   "id": "da202a3e",
   "metadata": {},
   "source": [
    "We compute the Personalized PageRank scores for the drug nodes."
   ]
  },
  {
   "cell_type": "code",
   "execution_count": null,
   "id": "b3725229",
   "metadata": {},
   "outputs": [],
   "source": [
    "pagerank_scores = machine.get_personalized_pagerank(drug_node_ids)"
   ]
  },
  {
   "cell_type": "code",
   "execution_count": 28,
   "id": "f1097f99",
   "metadata": {},
   "outputs": [
    {
     "data": {
      "text/html": [
       "<div>\n",
       "<style scoped>\n",
       "    .dataframe tbody tr th:only-of-type {\n",
       "        vertical-align: middle;\n",
       "    }\n",
       "\n",
       "    .dataframe tbody tr th {\n",
       "        vertical-align: top;\n",
       "    }\n",
       "\n",
       "    .dataframe thead th {\n",
       "        text-align: right;\n",
       "    }\n",
       "</style>\n",
       "<table border=\"1\" class=\"dataframe\">\n",
       "  <thead>\n",
       "    <tr style=\"text-align: right;\">\n",
       "      <th></th>\n",
       "      <th>node_1</th>\n",
       "      <th>node_2</th>\n",
       "      <th>score</th>\n",
       "      <th>node_1_num</th>\n",
       "      <th>node_2_num</th>\n",
       "    </tr>\n",
       "  </thead>\n",
       "  <tbody>\n",
       "    <tr>\n",
       "      <th>0</th>\n",
       "      <td>DB01620</td>\n",
       "      <td>DB01620</td>\n",
       "      <td>0.15897</td>\n",
       "      <td>1005</td>\n",
       "      <td>3813</td>\n",
       "    </tr>\n",
       "    <tr>\n",
       "      <th>1</th>\n",
       "      <td>DB01620</td>\n",
       "      <td>ENTREZ:510296</td>\n",
       "      <td>0.07913</td>\n",
       "      <td>1005</td>\n",
       "      <td>2954</td>\n",
       "    </tr>\n",
       "    <tr>\n",
       "      <th>2</th>\n",
       "      <td>DB01620</td>\n",
       "      <td>ENTREZ:458542</td>\n",
       "      <td>0.07542</td>\n",
       "      <td>1005</td>\n",
       "      <td>7</td>\n",
       "    </tr>\n",
       "    <tr>\n",
       "      <th>3</th>\n",
       "      <td>DB01620</td>\n",
       "      <td>DB02709</td>\n",
       "      <td>0.00927</td>\n",
       "      <td>1005</td>\n",
       "      <td>1441</td>\n",
       "    </tr>\n",
       "    <tr>\n",
       "      <th>4</th>\n",
       "      <td>DB01620</td>\n",
       "      <td>DB00366</td>\n",
       "      <td>0.00902</td>\n",
       "      <td>1005</td>\n",
       "      <td>828</td>\n",
       "    </tr>\n",
       "    <tr>\n",
       "      <th>5</th>\n",
       "      <td>DB01620</td>\n",
       "      <td>DB00737</td>\n",
       "      <td>0.00902</td>\n",
       "      <td>1005</td>\n",
       "      <td>2918</td>\n",
       "    </tr>\n",
       "    <tr>\n",
       "      <th>6</th>\n",
       "      <td>DB01620</td>\n",
       "      <td>DB01708</td>\n",
       "      <td>0.00875</td>\n",
       "      <td>1005</td>\n",
       "      <td>3151</td>\n",
       "    </tr>\n",
       "    <tr>\n",
       "      <th>7</th>\n",
       "      <td>DB01620</td>\n",
       "      <td>DB01026</td>\n",
       "      <td>0.00848</td>\n",
       "      <td>1005</td>\n",
       "      <td>2508</td>\n",
       "    </tr>\n",
       "    <tr>\n",
       "      <th>8</th>\n",
       "      <td>DB01620</td>\n",
       "      <td>DB00836</td>\n",
       "      <td>0.00844</td>\n",
       "      <td>1005</td>\n",
       "      <td>2999</td>\n",
       "    </tr>\n",
       "    <tr>\n",
       "      <th>9</th>\n",
       "      <td>DB01620</td>\n",
       "      <td>DB00257</td>\n",
       "      <td>0.00835</td>\n",
       "      <td>1005</td>\n",
       "      <td>515</td>\n",
       "    </tr>\n",
       "  </tbody>\n",
       "</table>\n",
       "</div>"
      ],
      "text/plain": [
       "    node_1         node_2    score  node_1_num  node_2_num\n",
       "0  DB01620        DB01620  0.15897        1005        3813\n",
       "1  DB01620  ENTREZ:510296  0.07913        1005        2954\n",
       "2  DB01620  ENTREZ:458542  0.07542        1005           7\n",
       "3  DB01620        DB02709  0.00927        1005        1441\n",
       "4  DB01620        DB00366  0.00902        1005         828\n",
       "5  DB01620        DB00737  0.00902        1005        2918\n",
       "6  DB01620        DB01708  0.00875        1005        3151\n",
       "7  DB01620        DB01026  0.00848        1005        2508\n",
       "8  DB01620        DB00836  0.00844        1005        2999\n",
       "9  DB01620        DB00257  0.00835        1005         515"
      ]
     },
     "execution_count": 28,
     "metadata": {},
     "output_type": "execute_result"
    }
   ],
   "source": [
    "pagerank_scores.head(10)"
   ]
  },
  {
   "cell_type": "markdown",
   "id": "c6560fb4",
   "metadata": {},
   "source": [
    "# 4. Embedding learning from Personalized PageRank scores 🤖"
   ]
  },
  {
   "cell_type": "markdown",
   "id": "3e9852a4",
   "metadata": {},
   "source": [
    "![title](https://github.com/benedekrozemberczki/datasets/raw/master/images/pair_scoring_C.jpg)"
   ]
  },
  {
   "cell_type": "markdown",
   "id": "f18d643a",
   "metadata": {},
   "source": [
    "We do not want to compute all of the PageRank scores, so let us load the pre-computed ones to speed up things."
   ]
  },
  {
   "cell_type": "code",
   "execution_count": 23,
   "id": "0c4f3e65",
   "metadata": {},
   "outputs": [],
   "source": [
    "pagerank_scores = dataset.read_pagerank()"
   ]
  },
  {
   "cell_type": "markdown",
   "id": "a2285386",
   "metadata": {},
   "source": [
    "We create an embedding machine - it will learn node embeddings for each drug, we set the hyperparameters manually."
   ]
  },
  {
   "cell_type": "code",
   "execution_count": 34,
   "id": "0b916f5f",
   "metadata": {},
   "outputs": [],
   "source": [
    "embedding_machine = EmbeddingMachine(seed=42, dimensions=32, max_iter=20)"
   ]
  },
  {
   "cell_type": "markdown",
   "id": "38f68b3c",
   "metadata": {},
   "source": [
    "We learn an embedding and look at the embedding matrix."
   ]
  },
  {
   "cell_type": "code",
   "execution_count": 35,
   "id": "01fd052c",
   "metadata": {},
   "outputs": [
    {
     "data": {
      "text/html": [
       "<div>\n",
       "<style scoped>\n",
       "    .dataframe tbody tr th:only-of-type {\n",
       "        vertical-align: middle;\n",
       "    }\n",
       "\n",
       "    .dataframe tbody tr th {\n",
       "        vertical-align: top;\n",
       "    }\n",
       "\n",
       "    .dataframe thead th {\n",
       "        text-align: right;\n",
       "    }\n",
       "</style>\n",
       "<table border=\"1\" class=\"dataframe\">\n",
       "  <thead>\n",
       "    <tr style=\"text-align: right;\">\n",
       "      <th></th>\n",
       "      <th>node_id</th>\n",
       "      <th>emb_0</th>\n",
       "      <th>emb_1</th>\n",
       "      <th>emb_2</th>\n",
       "      <th>emb_3</th>\n",
       "      <th>emb_4</th>\n",
       "      <th>emb_5</th>\n",
       "      <th>emb_6</th>\n",
       "      <th>emb_7</th>\n",
       "      <th>emb_8</th>\n",
       "      <th>...</th>\n",
       "      <th>emb_22</th>\n",
       "      <th>emb_23</th>\n",
       "      <th>emb_24</th>\n",
       "      <th>emb_25</th>\n",
       "      <th>emb_26</th>\n",
       "      <th>emb_27</th>\n",
       "      <th>emb_28</th>\n",
       "      <th>emb_29</th>\n",
       "      <th>emb_30</th>\n",
       "      <th>emb_31</th>\n",
       "    </tr>\n",
       "  </thead>\n",
       "  <tbody>\n",
       "    <tr>\n",
       "      <th>0</th>\n",
       "      <td>DB01620</td>\n",
       "      <td>-0.079809</td>\n",
       "      <td>-0.042563</td>\n",
       "      <td>-0.042563</td>\n",
       "      <td>-0.125073</td>\n",
       "      <td>-0.142232</td>\n",
       "      <td>-0.067374</td>\n",
       "      <td>-0.052152</td>\n",
       "      <td>-0.216095</td>\n",
       "      <td>-0.030083</td>\n",
       "      <td>...</td>\n",
       "      <td>-0.054677</td>\n",
       "      <td>-0.052727</td>\n",
       "      <td>-0.051751</td>\n",
       "      <td>-0.051983</td>\n",
       "      <td>-0.139338</td>\n",
       "      <td>-0.211693</td>\n",
       "      <td>-0.245172</td>\n",
       "      <td>0.186335</td>\n",
       "      <td>-0.050412</td>\n",
       "      <td>-0.090606</td>\n",
       "    </tr>\n",
       "    <tr>\n",
       "      <th>1</th>\n",
       "      <td>DB00521</td>\n",
       "      <td>-0.079809</td>\n",
       "      <td>-0.042563</td>\n",
       "      <td>-0.042563</td>\n",
       "      <td>-0.125216</td>\n",
       "      <td>-0.139214</td>\n",
       "      <td>-0.067374</td>\n",
       "      <td>-0.052152</td>\n",
       "      <td>-0.217174</td>\n",
       "      <td>-0.030083</td>\n",
       "      <td>...</td>\n",
       "      <td>-0.054677</td>\n",
       "      <td>-0.052735</td>\n",
       "      <td>-0.051751</td>\n",
       "      <td>-0.051983</td>\n",
       "      <td>-0.108249</td>\n",
       "      <td>-0.211809</td>\n",
       "      <td>-0.258564</td>\n",
       "      <td>0.295233</td>\n",
       "      <td>-0.050050</td>\n",
       "      <td>-0.090606</td>\n",
       "    </tr>\n",
       "    <tr>\n",
       "      <th>2</th>\n",
       "      <td>DB00843</td>\n",
       "      <td>-0.079809</td>\n",
       "      <td>-0.042563</td>\n",
       "      <td>-0.042563</td>\n",
       "      <td>-0.125227</td>\n",
       "      <td>-0.142371</td>\n",
       "      <td>-0.067374</td>\n",
       "      <td>-0.052152</td>\n",
       "      <td>-0.216126</td>\n",
       "      <td>-0.030083</td>\n",
       "      <td>...</td>\n",
       "      <td>-0.054677</td>\n",
       "      <td>-0.052711</td>\n",
       "      <td>-0.051751</td>\n",
       "      <td>-0.051983</td>\n",
       "      <td>-0.174959</td>\n",
       "      <td>0.049575</td>\n",
       "      <td>-0.260398</td>\n",
       "      <td>-0.322347</td>\n",
       "      <td>-0.050412</td>\n",
       "      <td>1.762666</td>\n",
       "    </tr>\n",
       "    <tr>\n",
       "      <th>3</th>\n",
       "      <td>DB06262</td>\n",
       "      <td>-0.079809</td>\n",
       "      <td>-0.042563</td>\n",
       "      <td>-0.042563</td>\n",
       "      <td>-0.125227</td>\n",
       "      <td>-0.142371</td>\n",
       "      <td>-0.067374</td>\n",
       "      <td>-0.052152</td>\n",
       "      <td>-0.175350</td>\n",
       "      <td>-0.030083</td>\n",
       "      <td>...</td>\n",
       "      <td>-0.054677</td>\n",
       "      <td>-0.044198</td>\n",
       "      <td>-0.051751</td>\n",
       "      <td>-0.051983</td>\n",
       "      <td>-0.174959</td>\n",
       "      <td>0.730457</td>\n",
       "      <td>-0.165776</td>\n",
       "      <td>-0.322347</td>\n",
       "      <td>-0.044207</td>\n",
       "      <td>-0.090606</td>\n",
       "    </tr>\n",
       "    <tr>\n",
       "      <th>4</th>\n",
       "      <td>DB00415</td>\n",
       "      <td>-0.079809</td>\n",
       "      <td>-0.042563</td>\n",
       "      <td>-0.042563</td>\n",
       "      <td>-0.125227</td>\n",
       "      <td>5.974596</td>\n",
       "      <td>-0.067374</td>\n",
       "      <td>-0.052152</td>\n",
       "      <td>-0.219001</td>\n",
       "      <td>-0.030083</td>\n",
       "      <td>...</td>\n",
       "      <td>-0.054677</td>\n",
       "      <td>-0.052735</td>\n",
       "      <td>-0.051751</td>\n",
       "      <td>-0.051983</td>\n",
       "      <td>-0.174959</td>\n",
       "      <td>-0.211809</td>\n",
       "      <td>-0.260398</td>\n",
       "      <td>-0.322347</td>\n",
       "      <td>-0.050412</td>\n",
       "      <td>-0.090606</td>\n",
       "    </tr>\n",
       "    <tr>\n",
       "      <th>5</th>\n",
       "      <td>DB00818</td>\n",
       "      <td>-0.079809</td>\n",
       "      <td>-0.042563</td>\n",
       "      <td>-0.042563</td>\n",
       "      <td>-0.124100</td>\n",
       "      <td>-0.142371</td>\n",
       "      <td>-0.067374</td>\n",
       "      <td>-0.052152</td>\n",
       "      <td>-0.208823</td>\n",
       "      <td>-0.030083</td>\n",
       "      <td>...</td>\n",
       "      <td>-0.054677</td>\n",
       "      <td>-0.052656</td>\n",
       "      <td>-0.051751</td>\n",
       "      <td>-0.051983</td>\n",
       "      <td>-0.137955</td>\n",
       "      <td>-0.206205</td>\n",
       "      <td>-0.248846</td>\n",
       "      <td>0.022307</td>\n",
       "      <td>-0.050412</td>\n",
       "      <td>-0.090606</td>\n",
       "    </tr>\n",
       "    <tr>\n",
       "      <th>6</th>\n",
       "      <td>DB00754</td>\n",
       "      <td>-0.079809</td>\n",
       "      <td>-0.042563</td>\n",
       "      <td>-0.042563</td>\n",
       "      <td>-0.125227</td>\n",
       "      <td>-0.142364</td>\n",
       "      <td>-0.067374</td>\n",
       "      <td>-0.052152</td>\n",
       "      <td>-0.218645</td>\n",
       "      <td>-0.030083</td>\n",
       "      <td>...</td>\n",
       "      <td>-0.054677</td>\n",
       "      <td>-0.052731</td>\n",
       "      <td>-0.051751</td>\n",
       "      <td>-0.051949</td>\n",
       "      <td>-0.133832</td>\n",
       "      <td>-0.211368</td>\n",
       "      <td>-0.258960</td>\n",
       "      <td>-0.303721</td>\n",
       "      <td>-0.049431</td>\n",
       "      <td>-0.090606</td>\n",
       "    </tr>\n",
       "    <tr>\n",
       "      <th>7</th>\n",
       "      <td>DB00956</td>\n",
       "      <td>-0.079809</td>\n",
       "      <td>-0.042563</td>\n",
       "      <td>-0.042563</td>\n",
       "      <td>-0.125227</td>\n",
       "      <td>-0.142371</td>\n",
       "      <td>-0.067374</td>\n",
       "      <td>-0.052152</td>\n",
       "      <td>-0.219001</td>\n",
       "      <td>-0.030083</td>\n",
       "      <td>...</td>\n",
       "      <td>-0.054677</td>\n",
       "      <td>-0.052735</td>\n",
       "      <td>-0.051751</td>\n",
       "      <td>-0.051983</td>\n",
       "      <td>-0.174959</td>\n",
       "      <td>-0.211809</td>\n",
       "      <td>4.888365</td>\n",
       "      <td>-0.322347</td>\n",
       "      <td>-0.050412</td>\n",
       "      <td>-0.090606</td>\n",
       "    </tr>\n",
       "    <tr>\n",
       "      <th>8</th>\n",
       "      <td>DB00204</td>\n",
       "      <td>-0.079809</td>\n",
       "      <td>-0.042563</td>\n",
       "      <td>-0.042563</td>\n",
       "      <td>-0.125227</td>\n",
       "      <td>-0.142371</td>\n",
       "      <td>-0.067374</td>\n",
       "      <td>-0.052152</td>\n",
       "      <td>-0.219001</td>\n",
       "      <td>-0.030083</td>\n",
       "      <td>...</td>\n",
       "      <td>-0.054677</td>\n",
       "      <td>-0.052735</td>\n",
       "      <td>-0.051751</td>\n",
       "      <td>-0.051983</td>\n",
       "      <td>-0.174959</td>\n",
       "      <td>-0.211809</td>\n",
       "      <td>-0.260398</td>\n",
       "      <td>-0.322347</td>\n",
       "      <td>-0.050412</td>\n",
       "      <td>-0.090606</td>\n",
       "    </tr>\n",
       "    <tr>\n",
       "      <th>9</th>\n",
       "      <td>DB00517</td>\n",
       "      <td>-0.079809</td>\n",
       "      <td>-0.042563</td>\n",
       "      <td>-0.042563</td>\n",
       "      <td>-0.125227</td>\n",
       "      <td>-0.142371</td>\n",
       "      <td>-0.067374</td>\n",
       "      <td>-0.052152</td>\n",
       "      <td>-0.219001</td>\n",
       "      <td>-0.030083</td>\n",
       "      <td>...</td>\n",
       "      <td>-0.054677</td>\n",
       "      <td>-0.052735</td>\n",
       "      <td>-0.051751</td>\n",
       "      <td>-0.051983</td>\n",
       "      <td>-0.174959</td>\n",
       "      <td>-0.211809</td>\n",
       "      <td>-0.260398</td>\n",
       "      <td>3.350473</td>\n",
       "      <td>-0.050412</td>\n",
       "      <td>-0.090606</td>\n",
       "    </tr>\n",
       "  </tbody>\n",
       "</table>\n",
       "<p>10 rows × 33 columns</p>\n",
       "</div>"
      ],
      "text/plain": [
       "   node_id     emb_0     emb_1     emb_2     emb_3     emb_4     emb_5  \\\n",
       "0  DB01620 -0.079809 -0.042563 -0.042563 -0.125073 -0.142232 -0.067374   \n",
       "1  DB00521 -0.079809 -0.042563 -0.042563 -0.125216 -0.139214 -0.067374   \n",
       "2  DB00843 -0.079809 -0.042563 -0.042563 -0.125227 -0.142371 -0.067374   \n",
       "3  DB06262 -0.079809 -0.042563 -0.042563 -0.125227 -0.142371 -0.067374   \n",
       "4  DB00415 -0.079809 -0.042563 -0.042563 -0.125227  5.974596 -0.067374   \n",
       "5  DB00818 -0.079809 -0.042563 -0.042563 -0.124100 -0.142371 -0.067374   \n",
       "6  DB00754 -0.079809 -0.042563 -0.042563 -0.125227 -0.142364 -0.067374   \n",
       "7  DB00956 -0.079809 -0.042563 -0.042563 -0.125227 -0.142371 -0.067374   \n",
       "8  DB00204 -0.079809 -0.042563 -0.042563 -0.125227 -0.142371 -0.067374   \n",
       "9  DB00517 -0.079809 -0.042563 -0.042563 -0.125227 -0.142371 -0.067374   \n",
       "\n",
       "      emb_6     emb_7     emb_8  ...    emb_22    emb_23    emb_24    emb_25  \\\n",
       "0 -0.052152 -0.216095 -0.030083  ... -0.054677 -0.052727 -0.051751 -0.051983   \n",
       "1 -0.052152 -0.217174 -0.030083  ... -0.054677 -0.052735 -0.051751 -0.051983   \n",
       "2 -0.052152 -0.216126 -0.030083  ... -0.054677 -0.052711 -0.051751 -0.051983   \n",
       "3 -0.052152 -0.175350 -0.030083  ... -0.054677 -0.044198 -0.051751 -0.051983   \n",
       "4 -0.052152 -0.219001 -0.030083  ... -0.054677 -0.052735 -0.051751 -0.051983   \n",
       "5 -0.052152 -0.208823 -0.030083  ... -0.054677 -0.052656 -0.051751 -0.051983   \n",
       "6 -0.052152 -0.218645 -0.030083  ... -0.054677 -0.052731 -0.051751 -0.051949   \n",
       "7 -0.052152 -0.219001 -0.030083  ... -0.054677 -0.052735 -0.051751 -0.051983   \n",
       "8 -0.052152 -0.219001 -0.030083  ... -0.054677 -0.052735 -0.051751 -0.051983   \n",
       "9 -0.052152 -0.219001 -0.030083  ... -0.054677 -0.052735 -0.051751 -0.051983   \n",
       "\n",
       "     emb_26    emb_27    emb_28    emb_29    emb_30    emb_31  \n",
       "0 -0.139338 -0.211693 -0.245172  0.186335 -0.050412 -0.090606  \n",
       "1 -0.108249 -0.211809 -0.258564  0.295233 -0.050050 -0.090606  \n",
       "2 -0.174959  0.049575 -0.260398 -0.322347 -0.050412  1.762666  \n",
       "3 -0.174959  0.730457 -0.165776 -0.322347 -0.044207 -0.090606  \n",
       "4 -0.174959 -0.211809 -0.260398 -0.322347 -0.050412 -0.090606  \n",
       "5 -0.137955 -0.206205 -0.248846  0.022307 -0.050412 -0.090606  \n",
       "6 -0.133832 -0.211368 -0.258960 -0.303721 -0.049431 -0.090606  \n",
       "7 -0.174959 -0.211809  4.888365 -0.322347 -0.050412 -0.090606  \n",
       "8 -0.174959 -0.211809 -0.260398 -0.322347 -0.050412 -0.090606  \n",
       "9 -0.174959 -0.211809 -0.260398  3.350473 -0.050412 -0.090606  \n",
       "\n",
       "[10 rows x 33 columns]"
      ]
     },
     "execution_count": 35,
     "metadata": {},
     "output_type": "execute_result"
    }
   ],
   "source": [
    "embedding = embedding_machine.fit(pagerank_scores)\n",
    "embedding.head(10)"
   ]
  },
  {
   "cell_type": "markdown",
   "id": "2e3f5e92",
   "metadata": {},
   "source": [
    "# 5. Classifier Training and Inference 🔮"
   ]
  },
  {
   "cell_type": "markdown",
   "id": "c682df40",
   "metadata": {},
   "source": [
    "\n",
    "![title](https://github.com/benedekrozemberczki/datasets/raw/master/images/pair_scoring_D.jpg)"
   ]
  },
  {
   "cell_type": "markdown",
   "id": "fa2327ce",
   "metadata": {},
   "source": [
    "We will generate drug pair features using a Tigerlily [Hadamard operator](https://snap.stanford.edu/node2vec/)."
   ]
  },
  {
   "cell_type": "code",
   "execution_count": 38,
   "id": "03d5508c",
   "metadata": {},
   "outputs": [],
   "source": [
    "drug_pair_features = embedding_machine.create_features(target, hadamard_operator)"
   ]
  },
  {
   "cell_type": "markdown",
   "id": "720aa6ca",
   "metadata": {},
   "source": [
    "We define a gradient boosted tree classifier, create dataset splits and fit the model the to training portion. "
   ]
  },
  {
   "cell_type": "code",
   "execution_count": 39,
   "id": "36370fe4",
   "metadata": {},
   "outputs": [
    {
     "data": {
      "text/plain": [
       "LGBMClassifier(learning_rate=0.01)"
      ]
     },
     "execution_count": 39,
     "metadata": {},
     "output_type": "execute_result"
    }
   ],
   "source": [
    "model = LGBMClassifier(learning_rate=0.01, n_estimators=100)\n",
    "\n",
    "X_train, X_test, y_train, y_test = train_test_split(drug_pair_features,\n",
    "                                                    target,\n",
    "                                                    train_size=0.8,\n",
    "                                                    random_state=42)\n",
    "\n",
    "model.fit(X_train,y_train[\"label\"])"
   ]
  },
  {
   "cell_type": "markdown",
   "id": "b7107075",
   "metadata": {},
   "source": [
    "We predict the labels for the test set."
   ]
  },
  {
   "cell_type": "code",
   "execution_count": 40,
   "id": "7affca9e",
   "metadata": {},
   "outputs": [],
   "source": [
    "predicted_label = model.predict_proba(X_test)"
   ]
  },
  {
   "cell_type": "markdown",
   "id": "f14a563e",
   "metadata": {},
   "source": [
    "We compute a performance metric for the predictive task."
   ]
  },
  {
   "cell_type": "code",
   "execution_count": 41,
   "id": "7d039457",
   "metadata": {},
   "outputs": [
    {
     "name": "stdout",
     "output_type": "stream",
     "text": [
      "AUROC score: 0.9510\n"
     ]
    }
   ],
   "source": [
    "auroc_score_value = roc_auc_score(y_test[\"label\"], predicted_label[:,1])\n",
    "print(f'AUROC score: {auroc_score_value :.4f}')"
   ]
  },
  {
   "cell_type": "markdown",
   "id": "da6f4700",
   "metadata": {},
   "source": [
    "Let us look at those scores closer!"
   ]
  },
  {
   "cell_type": "code",
   "execution_count": 42,
   "id": "e5bb48e1",
   "metadata": {},
   "outputs": [
    {
     "data": {
      "text/html": [
       "<div>\n",
       "<style scoped>\n",
       "    .dataframe tbody tr th:only-of-type {\n",
       "        vertical-align: middle;\n",
       "    }\n",
       "\n",
       "    .dataframe tbody tr th {\n",
       "        vertical-align: top;\n",
       "    }\n",
       "\n",
       "    .dataframe thead th {\n",
       "        text-align: right;\n",
       "    }\n",
       "</style>\n",
       "<table border=\"1\" class=\"dataframe\">\n",
       "  <thead>\n",
       "    <tr style=\"text-align: right;\">\n",
       "      <th></th>\n",
       "      <th>drug_1</th>\n",
       "      <th>drug_2</th>\n",
       "      <th>label</th>\n",
       "      <th>prediction</th>\n",
       "    </tr>\n",
       "  </thead>\n",
       "  <tbody>\n",
       "    <tr>\n",
       "      <th>157672</th>\n",
       "      <td>DB00850</td>\n",
       "      <td>DB00260</td>\n",
       "      <td>0</td>\n",
       "      <td>0.314553</td>\n",
       "    </tr>\n",
       "    <tr>\n",
       "      <th>117533</th>\n",
       "      <td>DB00936</td>\n",
       "      <td>DB01337</td>\n",
       "      <td>0</td>\n",
       "      <td>0.321906</td>\n",
       "    </tr>\n",
       "    <tr>\n",
       "      <th>17186</th>\n",
       "      <td>DB00384</td>\n",
       "      <td>DB01024</td>\n",
       "      <td>1</td>\n",
       "      <td>0.665960</td>\n",
       "    </tr>\n",
       "    <tr>\n",
       "      <th>93575</th>\n",
       "      <td>DB00547</td>\n",
       "      <td>DB09118</td>\n",
       "      <td>1</td>\n",
       "      <td>0.608919</td>\n",
       "    </tr>\n",
       "    <tr>\n",
       "      <th>99136</th>\n",
       "      <td>DB00582</td>\n",
       "      <td>DB00648</td>\n",
       "      <td>1</td>\n",
       "      <td>0.551621</td>\n",
       "    </tr>\n",
       "    <tr>\n",
       "      <th>31134</th>\n",
       "      <td>DB00199</td>\n",
       "      <td>DB01179</td>\n",
       "      <td>1</td>\n",
       "      <td>0.635063</td>\n",
       "    </tr>\n",
       "    <tr>\n",
       "      <th>131013</th>\n",
       "      <td>DB01117</td>\n",
       "      <td>DB00921</td>\n",
       "      <td>0</td>\n",
       "      <td>0.359500</td>\n",
       "    </tr>\n",
       "    <tr>\n",
       "      <th>93887</th>\n",
       "      <td>DB00679</td>\n",
       "      <td>DB09238</td>\n",
       "      <td>1</td>\n",
       "      <td>0.584536</td>\n",
       "    </tr>\n",
       "    <tr>\n",
       "      <th>40741</th>\n",
       "      <td>DB00483</td>\n",
       "      <td>DB06204</td>\n",
       "      <td>1</td>\n",
       "      <td>0.624107</td>\n",
       "    </tr>\n",
       "    <tr>\n",
       "      <th>176400</th>\n",
       "      <td>DB00419</td>\n",
       "      <td>DB00850</td>\n",
       "      <td>0</td>\n",
       "      <td>0.404385</td>\n",
       "    </tr>\n",
       "  </tbody>\n",
       "</table>\n",
       "</div>"
      ],
      "text/plain": [
       "         drug_1   drug_2  label  prediction\n",
       "157672  DB00850  DB00260      0    0.314553\n",
       "117533  DB00936  DB01337      0    0.321906\n",
       "17186   DB00384  DB01024      1    0.665960\n",
       "93575   DB00547  DB09118      1    0.608919\n",
       "99136   DB00582  DB00648      1    0.551621\n",
       "31134   DB00199  DB01179      1    0.635063\n",
       "131013  DB01117  DB00921      0    0.359500\n",
       "93887   DB00679  DB09238      1    0.584536\n",
       "40741   DB00483  DB06204      1    0.624107\n",
       "176400  DB00419  DB00850      0    0.404385"
      ]
     },
     "execution_count": 42,
     "metadata": {},
     "output_type": "execute_result"
    }
   ],
   "source": [
    "y_test[\"prediction\"] = predicted_label[:,1]\n",
    "y_test.head(10)"
   ]
  },
  {
   "cell_type": "markdown",
   "id": "fc60140f",
   "metadata": {},
   "source": [
    "# 6. Ideas and Readings 🤔\n",
    "\n",
    "This notebook is ideal to get started with **TigerLily** on a very specific problem. It can be extended and you can also read more about drug interaction prediction models, tasks and datasets!"
   ]
  },
  {
   "cell_type": "markdown",
   "id": "f8aa8781",
   "metadata": {},
   "source": [
    "## 6.1. Ideas, extensions and potential applications💡\n",
    "\n",
    "- Try out other classifiers such as logistic regression.\n",
    "\n",
    "- Tune the Personalized PageRank computation, node embedding and classifier hyperparameters!\n",
    "\n",
    "- Early warning systems for drug discovery in the pre-clinical phase.\n",
    "\n",
    "- Augment drug synergy prediction systems and do multi-objective-optimization by using interaction scores.\n",
    "\n",
    "- Predict polypharmacy side effects of drug pairings with TigerLily."
   ]
  },
  {
   "cell_type": "markdown",
   "id": "74562d30",
   "metadata": {},
   "source": [
    "## 6.2. Readings 📘 📗 📙"
   ]
  },
  {
   "cell_type": "markdown",
   "id": "a556c7d6",
   "metadata": {},
   "source": [
    "### 6.2.1. Papers 📚\n",
    "\n",
    "- [Therapeutics Data Commons: Machine Learning Datasets and Tasks for Drug Discovery and Development](https://arxiv.org/abs/2102.09548)\n",
    "- [ChemicalX: A Deep Learning Library for Drug Pair Scoring](https://arxiv.org/abs/2202.05240)\n",
    "- [Modeling Polypharmacy Side Effects with Graph Convolutional Networks](https://academic.oup.com/bioinformatics/article/34/13/i457/5045770)\n",
    "- [A Unified View of Relational Deep Learning for Drug Pair Scoring](https://arxiv.org/abs/2111.02916)\n",
    "\n",
    "### 6.2.2. Links 🕸️\n",
    "\n",
    "- [TigerGraph](https://www.tigergraph.com/)\n",
    "- [TigerGraph Cloud](https://tgcloud.io/)\n",
    "- [TigerGraph Data Science](https://www.tigergraph.com/graph-data-science-library/)\n",
    "- [ChemicalX](https://github.com/AstraZeneca/chemicalx)\n",
    "- [Therapeutic Data Commons](https://tdcommons.ai/)\n",
    "- [BioSNAP](http://snap.stanford.edu/biodata/)\n",
    "- [Awesome Drug Pair Scoring](https://github.com/AstraZeneca/awesome-drug-pair-scoring)"
   ]
  },
  {
   "cell_type": "markdown",
   "id": "51c908d5",
   "metadata": {},
   "source": [
    "# 7. Author 🦸\n",
    "\n",
    "- Author: Benedek Rozemberczki\n",
    "- E-mail: benedek.rozemberczki@gmail.com\n",
    "- Date: 2022.04.12."
   ]
  }
 ],
 "metadata": {
  "kernelspec": {
   "display_name": "Python 3",
   "language": "python",
   "name": "python3"
  },
  "language_info": {
   "codemirror_mode": {
    "name": "ipython",
    "version": 3
   },
   "file_extension": ".py",
   "mimetype": "text/x-python",
   "name": "python",
   "nbconvert_exporter": "python",
   "pygments_lexer": "ipython3",
   "version": "3.8.5"
  }
 },
 "nbformat": 4,
 "nbformat_minor": 5
}
